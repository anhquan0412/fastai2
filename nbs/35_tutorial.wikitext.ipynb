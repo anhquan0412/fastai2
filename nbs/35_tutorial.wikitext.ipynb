{
 "cells": [
  {
   "cell_type": "code",
   "execution_count": null,
   "metadata": {},
   "outputs": [],
   "source": [
    "from fastai2.basics import *\n",
    "from fastai2.callback.all import *\n",
    "from fastai2.text.all import *"
   ]
  },
  {
   "cell_type": "code",
   "execution_count": null,
   "metadata": {},
   "outputs": [],
   "source": [
    "# all_slow"
   ]
  },
  {
   "cell_type": "markdown",
   "metadata": {},
   "source": [
    "# Integration test on Wikitext-2\n",
    "\n",
    "> Training a Language Model on WT2"
   ]
  },
  {
   "cell_type": "markdown",
   "metadata": {},
   "source": [
    "## Data"
   ]
  },
  {
   "cell_type": "code",
   "execution_count": null,
   "metadata": {},
   "outputs": [
    {
     "data": {
      "text/html": [],
      "text/plain": [
       "<IPython.core.display.HTML object>"
      ]
     },
     "metadata": {},
     "output_type": "display_data"
    }
   ],
   "source": [
    "path = untar_data(URLs.WIKITEXT_TINY)"
   ]
  },
  {
   "cell_type": "markdown",
   "metadata": {},
   "source": [
    "The dataset comes with the articles in two csv files, so we read it and concatenate them in one dataframe."
   ]
  },
  {
   "cell_type": "code",
   "execution_count": null,
   "metadata": {},
   "outputs": [],
   "source": [
    "df_train = pd.read_csv(path/'train.csv', header=None)\n",
    "df_valid = pd.read_csv(path/'test.csv', header=None)\n",
    "df_all = pd.concat([df_train, df_valid])"
   ]
  },
  {
   "cell_type": "code",
   "execution_count": null,
   "metadata": {},
   "outputs": [
    {
     "data": {
      "text/html": [
       "<div>\n",
       "<style scoped>\n",
       "    .dataframe tbody tr th:only-of-type {\n",
       "        vertical-align: middle;\n",
       "    }\n",
       "\n",
       "    .dataframe tbody tr th {\n",
       "        vertical-align: top;\n",
       "    }\n",
       "\n",
       "    .dataframe thead th {\n",
       "        text-align: right;\n",
       "    }\n",
       "</style>\n",
       "<table border=\"1\" class=\"dataframe\">\n",
       "  <thead>\n",
       "    <tr style=\"text-align: right;\">\n",
       "      <th></th>\n",
       "      <th>0</th>\n",
       "    </tr>\n",
       "  </thead>\n",
       "  <tbody>\n",
       "    <tr>\n",
       "      <td>0</td>\n",
       "      <td>\\n = 2013 – 14 York City F.C. season = \\n \\n The 2013 – 14 season was the &lt;unk&gt; season of competitive association football and 77th season in the Football League played by York City Football Club , a professional football club based in York , North Yorkshire , England . Their 17th @-@ place finish in 2012 – 13 meant it was their second consecutive season in League Two . The season ran from 1 July 2013 to 30 June 2014 . \\n Nigel Worthington , starting his first full season as York manager , made eight permanent summer signings . By the turn of the year York were only above the relegation z...</td>\n",
       "    </tr>\n",
       "    <tr>\n",
       "      <td>1</td>\n",
       "      <td>\\n = Big Boy ( song ) = \\n \\n \" Big Boy \" &lt;unk&gt; \" I 'm A Big Boy Now \" was the first single ever recorded by the Jackson 5 , which was released by Steeltown Records in January 1968 . The group played instruments on many of their Steeltown compositions , including \" Big Boy \" . The song was neither a critical nor commercial success , but the Jackson family were delighted with the outcome nonetheless . \\n The Jackson 5 would release a second single with Steeltown Records before moving to Motown Records . The group 's recordings at Steeltown Records were thought to be lost , but they were re...</td>\n",
       "    </tr>\n",
       "    <tr>\n",
       "      <td>2</td>\n",
       "      <td>\\n = The Remix ( Lady Gaga album ) = \\n \\n The Remix is a remix album by American recording artist Lady Gaga . Released in Japan on March 3 , 2010 , it contains remixes of the songs from her first studio album , The Fame ( 2008 ) , and her third extended play , The Fame Monster ( 2009 ) . A revised version of the track list was prepared for release in additional markets , beginning with Mexico on May 3 , 2010 . A number of recording artists have produced the songs , including Pet Shop Boys , Passion Pit and The Sound of Arrows . The remixed versions feature both uptempo and &lt;unk&gt; composit...</td>\n",
       "    </tr>\n",
       "    <tr>\n",
       "      <td>3</td>\n",
       "      <td>\\n = New Year 's Eve ( Up All Night ) = \\n \\n \" New Year 's Eve \" is the twelfth episode of the first season of the American comedy television series Up All Night . The episode originally aired on NBC in the United States on January 12 , 2012 . It was written by Erica &lt;unk&gt; and was directed by Beth McCarthy @-@ Miller . The episode also featured a guest appearance from Jason Lee as Chris and Reagan 's neighbor and Ava 's boyfriend , Kevin . \\n During Reagan ( Christina Applegate ) and Chris 's ( Will &lt;unk&gt; ) first New Year 's Eve game night , Reagan 's competitiveness comes out causing Ch...</td>\n",
       "    </tr>\n",
       "    <tr>\n",
       "      <td>4</td>\n",
       "      <td>\\n = Geopyxis carbonaria = \\n \\n Geopyxis carbonaria is a species of fungus in the genus Geopyxis , family &lt;unk&gt; . First described to science in 1805 , and given its current name in 1889 , the species is commonly known as the charcoal loving elf @-@ cup , dwarf &lt;unk&gt; cup , &lt;unk&gt; &lt;unk&gt; cup , or pixie cup . The small , &lt;unk&gt; @-@ shaped fruitbodies of the fungus are reddish @-@ brown with a whitish fringe and measure up to 2 cm ( 0 @.@ 8 in ) across . They have a short , tapered stalk . Fruitbodies are commonly found on soil where brush has recently been burned , sometimes in great numbers ....</td>\n",
       "    </tr>\n",
       "  </tbody>\n",
       "</table>\n",
       "</div>"
      ],
      "text/plain": [
       "                                                                                                                                                                                                                                                                                                                                                                                                                                                                                                                                                                                                                         0\n",
       "0   \\n = 2013 – 14 York City F.C. season = \\n \\n The 2013 – 14 season was the <unk> season of competitive association football and 77th season in the Football League played by York City Football Club , a professional football club based in York , North Yorkshire , England . Their 17th @-@ place finish in 2012 – 13 meant it was their second consecutive season in League Two . The season ran from 1 July 2013 to 30 June 2014 . \\n Nigel Worthington , starting his first full season as York manager , made eight permanent summer signings . By the turn of the year York were only above the relegation z...\n",
       "1   \\n = Big Boy ( song ) = \\n \\n \" Big Boy \" <unk> \" I 'm A Big Boy Now \" was the first single ever recorded by the Jackson 5 , which was released by Steeltown Records in January 1968 . The group played instruments on many of their Steeltown compositions , including \" Big Boy \" . The song was neither a critical nor commercial success , but the Jackson family were delighted with the outcome nonetheless . \\n The Jackson 5 would release a second single with Steeltown Records before moving to Motown Records . The group 's recordings at Steeltown Records were thought to be lost , but they were re...\n",
       "2   \\n = The Remix ( Lady Gaga album ) = \\n \\n The Remix is a remix album by American recording artist Lady Gaga . Released in Japan on March 3 , 2010 , it contains remixes of the songs from her first studio album , The Fame ( 2008 ) , and her third extended play , The Fame Monster ( 2009 ) . A revised version of the track list was prepared for release in additional markets , beginning with Mexico on May 3 , 2010 . A number of recording artists have produced the songs , including Pet Shop Boys , Passion Pit and The Sound of Arrows . The remixed versions feature both uptempo and <unk> composit...\n",
       "3   \\n = New Year 's Eve ( Up All Night ) = \\n \\n \" New Year 's Eve \" is the twelfth episode of the first season of the American comedy television series Up All Night . The episode originally aired on NBC in the United States on January 12 , 2012 . It was written by Erica <unk> and was directed by Beth McCarthy @-@ Miller . The episode also featured a guest appearance from Jason Lee as Chris and Reagan 's neighbor and Ava 's boyfriend , Kevin . \\n During Reagan ( Christina Applegate ) and Chris 's ( Will <unk> ) first New Year 's Eve game night , Reagan 's competitiveness comes out causing Ch...\n",
       "4   \\n = Geopyxis carbonaria = \\n \\n Geopyxis carbonaria is a species of fungus in the genus Geopyxis , family <unk> . First described to science in 1805 , and given its current name in 1889 , the species is commonly known as the charcoal loving elf @-@ cup , dwarf <unk> cup , <unk> <unk> cup , or pixie cup . The small , <unk> @-@ shaped fruitbodies of the fungus are reddish @-@ brown with a whitish fringe and measure up to 2 cm ( 0 @.@ 8 in ) across . They have a short , tapered stalk . Fruitbodies are commonly found on soil where brush has recently been burned , sometimes in great numbers ...."
      ]
     },
     "execution_count": null,
     "metadata": {},
     "output_type": "execute_result"
    }
   ],
   "source": [
    "df_all.head()"
   ]
  },
  {
   "cell_type": "markdown",
   "metadata": {},
   "source": [
    "We could tokenize it based on spaces to compare (as is usually done) but here we'll use the standard fastai tokenizer."
   ]
  },
  {
   "cell_type": "code",
   "execution_count": null,
   "metadata": {},
   "outputs": [
    {
     "data": {
      "text/html": [],
      "text/plain": [
       "<IPython.core.display.HTML object>"
      ]
     },
     "metadata": {},
     "output_type": "display_data"
    }
   ],
   "source": [
    "splits = [list(range_of(df_train)), list(range(len(df_train), len(df_all)))]\n",
    "tfms = [attrgetter(\"text\"), Tokenizer.from_df(0), Numericalize()]\n",
    "dsrc = DataSource(df_all, [tfms], splits=splits, dl_type=LMDataLoader)"
   ]
  },
  {
   "cell_type": "code",
   "execution_count": null,
   "metadata": {},
   "outputs": [],
   "source": [
    "bs,sl = 104,72\n",
    "dbch = dsrc.databunch(bs=bs, seq_len=sl, after_batch=Cuda)"
   ]
  },
  {
   "cell_type": "code",
   "execution_count": null,
   "metadata": {},
   "outputs": [
    {
     "data": {
      "text/html": [
       "<table border=\"1\" class=\"dataframe\">\n",
       "  <thead>\n",
       "    <tr style=\"text-align: right;\">\n",
       "      <th></th>\n",
       "      <th>text</th>\n",
       "      <th>text_</th>\n",
       "    </tr>\n",
       "  </thead>\n",
       "  <tbody>\n",
       "    <tr>\n",
       "      <th>0</th>\n",
       "      <td>xxbos = xxmaj ed xxmaj barrow = \\n▁\\n▁ xxmaj edward xxmaj grant xxmaj barrow ( xxmaj may 10 , 1868 – xxmaj december 15 , 1953 ) was an xxmaj american manager and front office executive in xxmaj major xxmaj league xxmaj baseball . xxmaj he served as the field manager of the xxmaj detroit xxmaj tigers and xxmaj boston xxmaj red xxmaj sox . xxmaj he served as business manager (</td>\n",
       "      <td>= xxmaj ed xxmaj barrow = \\n▁\\n▁ xxmaj edward xxmaj grant xxmaj barrow ( xxmaj may 10 , 1868 – xxmaj december 15 , 1953 ) was an xxmaj american manager and front office executive in xxmaj major xxmaj league xxmaj baseball . xxmaj he served as the field manager of the xxmaj detroit xxmaj tigers and xxmaj boston xxmaj red xxmaj sox . xxmaj he served as business manager ( de</td>\n",
       "    </tr>\n",
       "    <tr>\n",
       "      <th>1</th>\n",
       "      <td>for xxmaj hindu intellectuals and theologians during the xxmaj middle xxmaj ages , which further contributed to its reputation as a cultural centre of religion and education . xxunk xxmaj tulsidas wrote his epic poem on xxmaj lord xxmaj rama 's life called xxmaj ram xxunk xxmaj manas in xxmaj varanasi . xxmaj several other major figures of the xxmaj bhakti movement were born in xxmaj varanasi , including xxmaj kabir and</td>\n",
       "      <td>xxmaj hindu intellectuals and theologians during the xxmaj middle xxmaj ages , which further contributed to its reputation as a cultural centre of religion and education . xxunk xxmaj tulsidas wrote his epic poem on xxmaj lord xxmaj rama 's life called xxmaj ram xxunk xxmaj manas in xxmaj varanasi . xxmaj several other major figures of the xxmaj bhakti movement were born in xxmaj varanasi , including xxmaj kabir and xxmaj</td>\n",
       "    </tr>\n",
       "    <tr>\n",
       "      <th>2</th>\n",
       "      <td>and a total of $ 1643 was raised with all the money going to the xxmaj speech &amp; xxmaj language xxmaj development xxmaj center of xxmaj buena xxmaj park . xxmaj after construction and testing was completed , the roller coaster opened first to the media , then to the public on xxmaj december 7 , 2004 though the initial scheduled opening was on xxmaj christmas xxmaj eve of 2004 . xxmaj</td>\n",
       "      <td>a total of $ 1643 was raised with all the money going to the xxmaj speech &amp; xxmaj language xxmaj development xxmaj center of xxmaj buena xxmaj park . xxmaj after construction and testing was completed , the roller coaster opened first to the media , then to the public on xxmaj december 7 , 2004 though the initial scheduled opening was on xxmaj christmas xxmaj eve of 2004 . xxmaj silver</td>\n",
       "    </tr>\n",
       "    <tr>\n",
       "      <th>3</th>\n",
       "      <td>down vocal styles not heard on previous albums . \" \\n▁ xxmaj king has since been critical of his performance , which he describes as his \" most lackluster . \" xxmaj king attributes this to the fact he had recently married , and moved to xxmaj phoenix , xxmaj arizona . xxmaj describing himself as \" probably the odd man out at that point \" , he admitted he \" didn</td>\n",
       "      <td>vocal styles not heard on previous albums . \" \\n▁ xxmaj king has since been critical of his performance , which he describes as his \" most lackluster . \" xxmaj king attributes this to the fact he had recently married , and moved to xxmaj phoenix , xxmaj arizona . xxmaj describing himself as \" probably the odd man out at that point \" , he admitted he \" didn ’</td>\n",
       "    </tr>\n",
       "    <tr>\n",
       "      <th>4</th>\n",
       "      <td>the xxunk xxunk of xxmaj lost \" . xxmaj in 2009 , xxmaj kevin xxmaj durand was nominated for a xxmaj saturn xxmaj award for xxmaj best xxmaj guest xxmaj starring xxmaj role in a xxmaj television xxmaj series . \\n▁ xxmaj reaction to the antagonist 's death was mixed . xxmaj kristin xxunk xxmaj santos of e ! criticized the writing for xxmaj keamy when he xxunk asks xxmaj sayid where</td>\n",
       "      <td>xxunk xxunk of xxmaj lost \" . xxmaj in 2009 , xxmaj kevin xxmaj durand was nominated for a xxmaj saturn xxmaj award for xxmaj best xxmaj guest xxmaj starring xxmaj role in a xxmaj television xxmaj series . \\n▁ xxmaj reaction to the antagonist 's death was mixed . xxmaj kristin xxunk xxmaj santos of e ! criticized the writing for xxmaj keamy when he xxunk asks xxmaj sayid where his</td>\n",
       "    </tr>\n",
       "    <tr>\n",
       "      <th>5</th>\n",
       "      <td>winner from xxmaj ireland . xxmaj three xxunk from xxmaj northern xxmaj ireland have been particularly successful . xxmaj in 2010 , xxmaj graeme xxunk became the first xxmaj irish golfer to win the xxup u.s . xxmaj open , and the first xxmaj european to win that tournament since 1970 . xxmaj rory xxunk , at the age of 22 , won the 2011 xxup u.s . xxmaj open , while</td>\n",
       "      <td>from xxmaj ireland . xxmaj three xxunk from xxmaj northern xxmaj ireland have been particularly successful . xxmaj in 2010 , xxmaj graeme xxunk became the first xxmaj irish golfer to win the xxup u.s . xxmaj open , and the first xxmaj european to win that tournament since 1970 . xxmaj rory xxunk , at the age of 22 , won the 2011 xxup u.s . xxmaj open , while xxmaj</td>\n",
       "    </tr>\n",
       "    <tr>\n",
       "      <th>6</th>\n",
       "      <td>, but xxmaj white has to go first so xxmaj black gets to play … d5 before xxmaj white can play xxunk . xxmaj this doesn ' t matter much , but it already points to the challenge that xxmaj white faces here ; his most natural xxunk allow xxmaj black to play the moves he wants to . i would therefore say that xxmaj white is in ' xxunk xxmaj lite</td>\n",
       "      <td>but xxmaj white has to go first so xxmaj black gets to play … d5 before xxmaj white can play xxunk . xxmaj this doesn ' t matter much , but it already points to the challenge that xxmaj white faces here ; his most natural xxunk allow xxmaj black to play the moves he wants to . i would therefore say that xxmaj white is in ' xxunk xxmaj lite '</td>\n",
       "    </tr>\n",
       "    <tr>\n",
       "      <th>7</th>\n",
       "      <td>in a xxmaj yellow xxmaj river flood in 1194 that devastated xxmaj hebei and xxmaj shandong in northern xxmaj china , and the droughts and swarming locusts that plagued the south near the xxmaj huai . xxmaj the xxmaj song were informed of the xxmaj jurchen predicament by their ambassadors , who traveled twice a year to the xxmaj jin capital , and started provoking their northern neighbor . xxmaj the hostilities</td>\n",
       "      <td>a xxmaj yellow xxmaj river flood in 1194 that devastated xxmaj hebei and xxmaj shandong in northern xxmaj china , and the droughts and swarming locusts that plagued the south near the xxmaj huai . xxmaj the xxmaj song were informed of the xxmaj jurchen predicament by their ambassadors , who traveled twice a year to the xxmaj jin capital , and started provoking their northern neighbor . xxmaj the hostilities were</td>\n",
       "    </tr>\n",
       "    <tr>\n",
       "      <th>8</th>\n",
       "      <td>previously , xxmaj sitriuc seems to have been closely aligned with xxmaj knútr xxunk ( died 1035 ) , ruler of the kingdoms of xxmaj england , xxmaj denmark , and xxmaj norway . xxmaj knútr 's apparent authority in the xxmaj irish xxmaj sea region , coupled with xxmaj sitriuc 's seemingly close connections with him , could account for the remarkable security enjoyed by xxmaj sitriuc during xxmaj knútr 's</td>\n",
       "      <td>, xxmaj sitriuc seems to have been closely aligned with xxmaj knútr xxunk ( died 1035 ) , ruler of the kingdoms of xxmaj england , xxmaj denmark , and xxmaj norway . xxmaj knútr 's apparent authority in the xxmaj irish xxmaj sea region , coupled with xxmaj sitriuc 's seemingly close connections with him , could account for the remarkable security enjoyed by xxmaj sitriuc during xxmaj knútr 's reign</td>\n",
       "    </tr>\n",
       "  </tbody>\n",
       "</table>"
      ],
      "text/plain": [
       "<IPython.core.display.HTML object>"
      ]
     },
     "metadata": {},
     "output_type": "display_data"
    }
   ],
   "source": [
    "dbch.show_batch()"
   ]
  },
  {
   "cell_type": "markdown",
   "metadata": {},
   "source": [
    "## Model"
   ]
  },
  {
   "cell_type": "code",
   "execution_count": null,
   "metadata": {},
   "outputs": [],
   "source": [
    "config = awd_lstm_lm_config.copy()\n",
    "config.update({'input_p': 0.6, 'output_p': 0.4, 'weight_p': 0.5, 'embed_p': 0.1, 'hidden_p': 0.2})\n",
    "model = get_language_model(AWD_LSTM, len(dbch.vocab), config=config)"
   ]
  },
  {
   "cell_type": "code",
   "execution_count": null,
   "metadata": {},
   "outputs": [],
   "source": [
    "opt_func = partial(Adam, wd=0.1, eps=1e-7)\n",
    "cb_funcs = [partial(MixedPrecision, clip=0.1), partial(RNNTrainer, alpha=2, beta=1)]"
   ]
  },
  {
   "cell_type": "code",
   "execution_count": null,
   "metadata": {},
   "outputs": [],
   "source": [
    "learn = Learner(dbch, model, loss_func=CrossEntropyLossFlat(), opt_func=opt_func, cb_funcs=cb_funcs, metrics=[accuracy, Perplexity()])"
   ]
  },
  {
   "cell_type": "code",
   "execution_count": null,
   "metadata": {},
   "outputs": [
    {
     "data": {
      "text/html": [
       "<table border=\"1\" class=\"dataframe\">\n",
       "  <thead>\n",
       "    <tr style=\"text-align: left;\">\n",
       "      <th>epoch</th>\n",
       "      <th>train_loss</th>\n",
       "      <th>valid_loss</th>\n",
       "      <th>accuracy</th>\n",
       "      <th>perplexity</th>\n",
       "      <th>time</th>\n",
       "    </tr>\n",
       "  </thead>\n",
       "  <tbody>\n",
       "    <tr>\n",
       "      <td>0</td>\n",
       "      <td>6.784956</td>\n",
       "      <td>6.386944</td>\n",
       "      <td>0.115323</td>\n",
       "      <td>594.038574</td>\n",
       "      <td>01:32</td>\n",
       "    </tr>\n",
       "  </tbody>\n",
       "</table>"
      ],
      "text/plain": [
       "<IPython.core.display.HTML object>"
      ]
     },
     "metadata": {},
     "output_type": "display_data"
    }
   ],
   "source": [
    "learn.fit_one_cycle(1, 5e-3, moms=(0.8,0.7,0.8), div=10)"
   ]
  },
  {
   "cell_type": "markdown",
   "metadata": {},
   "source": [
    "Full training"
   ]
  },
  {
   "cell_type": "code",
   "execution_count": null,
   "metadata": {},
   "outputs": [],
   "source": [
    "#learn.fit_one_cycle(90, 5e-3, moms=(0.8,0.7,0.8), div=10)"
   ]
  },
  {
   "cell_type": "code",
   "execution_count": null,
   "metadata": {},
   "outputs": [],
   "source": []
  }
 ],
 "metadata": {
  "kernelspec": {
   "display_name": "Python 3",
   "language": "python",
   "name": "python3"
  }
 },
 "nbformat": 4,
 "nbformat_minor": 2
}
