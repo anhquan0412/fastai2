{
 "cells": [
  {
   "cell_type": "code",
   "execution_count": null,
   "metadata": {},
   "outputs": [],
   "source": [
    "from fastai2.text.all import *"
   ]
  },
  {
   "cell_type": "code",
   "execution_count": null,
   "metadata": {},
   "outputs": [],
   "source": [
    "from nbdev.showdoc import *"
   ]
  },
  {
   "cell_type": "code",
   "execution_count": null,
   "metadata": {},
   "outputs": [],
   "source": [
    "# all_slow"
   ]
  },
  {
   "cell_type": "markdown",
   "metadata": {},
   "source": [
    "# Transfer learning in text\n",
    "\n",
    "> How to fine-tune a language model and train a classifier"
   ]
  },
  {
   "cell_type": "markdown",
   "metadata": {},
   "source": [
    "## Finetune a pretrained Language Model"
   ]
  },
  {
   "cell_type": "markdown",
   "metadata": {},
   "source": [
    "First we get our data and tokenize it."
   ]
  },
  {
   "cell_type": "code",
   "execution_count": null,
   "metadata": {},
   "outputs": [],
   "source": [
    "path = untar_data(URLs.IMDB_SAMPLE)\n",
    "df = pd.read_csv(path/'texts.csv')"
   ]
  },
  {
   "cell_type": "markdown",
   "metadata": {},
   "source": [
    "Then we put it in a `DataSource`. For a language model, we don't have targets, so there is only one transform to numericalize the texts."
   ]
  },
  {
   "cell_type": "code",
   "execution_count": null,
   "metadata": {},
   "outputs": [
    {
     "data": {
      "text/html": [],
      "text/plain": [
       "<IPython.core.display.HTML object>"
      ]
     },
     "metadata": {},
     "output_type": "display_data"
    }
   ],
   "source": [
    "splits = ColSplitter()(df)\n",
    "tfms = [attrgetter(\"text\"), Tokenizer.from_df(\"text\"), Numericalize()]\n",
    "dsrc = DataSource(df, [tfms], splits=splits, dl_type=LMDataLoader)"
   ]
  },
  {
   "cell_type": "markdown",
   "metadata": {},
   "source": [
    "Then we use that `DataSource` to create a `DataBunch`. Here the class of `TfmdDL` we need to use is `LMDataLoader` which will concatenate all the texts in a source (with a shuffle at each epoch for the training set), split it in `bs` chunks then read continuously through it."
   ]
  },
  {
   "cell_type": "code",
   "execution_count": null,
   "metadata": {},
   "outputs": [],
   "source": [
    "dbunch = dsrc.databunch(bs=64, seq_len=72, after_batch=Cuda)"
   ]
  },
  {
   "cell_type": "markdown",
   "metadata": {},
   "source": [
    "Or more simply with a factory method:"
   ]
  },
  {
   "cell_type": "code",
   "execution_count": null,
   "metadata": {},
   "outputs": [
    {
     "data": {
      "text/html": [],
      "text/plain": [
       "<IPython.core.display.HTML object>"
      ]
     },
     "metadata": {},
     "output_type": "display_data"
    }
   ],
   "source": [
    "dbunch = TextDataBunch.from_df(df, text_col='text', is_lm=True, valid_col='is_valid')"
   ]
  },
  {
   "cell_type": "code",
   "execution_count": null,
   "metadata": {},
   "outputs": [
    {
     "data": {
      "text/html": [
       "<table border=\"1\" class=\"dataframe\">\n",
       "  <thead>\n",
       "    <tr style=\"text-align: right;\">\n",
       "      <th></th>\n",
       "      <th>text</th>\n",
       "      <th>text_</th>\n",
       "    </tr>\n",
       "  </thead>\n",
       "  <tbody>\n",
       "    <tr>\n",
       "      <th>0</th>\n",
       "      <td>xxbos xxmaj rock n ' roll is a messy business and dig ! xxunk this masterfully . a project of serious ambition , and perhaps xxunk , the filmmaker is able to xxunk together seven xxunk years of following around two xxunk rock groups . xxmaj with that said , the xxunk of quality material xxunk the film 's ability to xxunk the audience . xxmaj if you 've ever been interested</td>\n",
       "      <td>xxmaj rock n ' roll is a messy business and dig ! xxunk this masterfully . a project of serious ambition , and perhaps xxunk , the filmmaker is able to xxunk together seven xxunk years of following around two xxunk rock groups . xxmaj with that said , the xxunk of quality material xxunk the film 's ability to xxunk the audience . xxmaj if you 've ever been interested in</td>\n",
       "    </tr>\n",
       "    <tr>\n",
       "      <th>1</th>\n",
       "      <td>move further in the game ) , xxunk doors and looking for secret rooms . xxmaj there is a bonus count after each level is beaten … it goes by how fast you xxunk , if you beat the ' par time ' , which is the time it took a xxunk to go through the same level ; this can be quite fun to try and beat , and with how</td>\n",
       "      <td>further in the game ) , xxunk doors and looking for secret rooms . xxmaj there is a bonus count after each level is beaten … it goes by how fast you xxunk , if you beat the ' par time ' , which is the time it took a xxunk to go through the same level ; this can be quite fun to try and beat , and with how difficult</td>\n",
       "    </tr>\n",
       "  </tbody>\n",
       "</table>"
      ],
      "text/plain": [
       "<IPython.core.display.HTML object>"
      ]
     },
     "metadata": {},
     "output_type": "display_data"
    }
   ],
   "source": [
    "dbunch.show_batch(max_n=2)"
   ]
  },
  {
   "cell_type": "markdown",
   "metadata": {},
   "source": [
    "Then we have a convenience method to directly grab a `Learner` from it, using the `AWD_LSTM` architecture."
   ]
  },
  {
   "cell_type": "code",
   "execution_count": null,
   "metadata": {},
   "outputs": [],
   "source": [
    "learn = language_model_learner(dbunch, AWD_LSTM, metrics=[accuracy, Perplexity()], path=path, opt_func = partial(Adam, wd=0.1)).to_fp16()"
   ]
  },
  {
   "cell_type": "code",
   "execution_count": null,
   "metadata": {},
   "outputs": [
    {
     "data": {
      "text/html": [
       "<table border=\"1\" class=\"dataframe\">\n",
       "  <thead>\n",
       "    <tr style=\"text-align: left;\">\n",
       "      <th>epoch</th>\n",
       "      <th>train_loss</th>\n",
       "      <th>valid_loss</th>\n",
       "      <th>accuracy</th>\n",
       "      <th>perplexity</th>\n",
       "      <th>time</th>\n",
       "    </tr>\n",
       "  </thead>\n",
       "  <tbody>\n",
       "    <tr>\n",
       "      <td>0</td>\n",
       "      <td>4.550142</td>\n",
       "      <td>4.053219</td>\n",
       "      <td>0.273412</td>\n",
       "      <td>57.582535</td>\n",
       "      <td>00:09</td>\n",
       "    </tr>\n",
       "  </tbody>\n",
       "</table>"
      ],
      "text/plain": [
       "<IPython.core.display.HTML object>"
      ]
     },
     "metadata": {},
     "output_type": "display_data"
    }
   ],
   "source": [
    "learn.freeze()\n",
    "learn.fit_one_cycle(1, 1e-2)"
   ]
  },
  {
   "cell_type": "code",
   "execution_count": null,
   "metadata": {},
   "outputs": [
    {
     "data": {
      "text/html": [
       "<table border=\"1\" class=\"dataframe\">\n",
       "  <thead>\n",
       "    <tr style=\"text-align: left;\">\n",
       "      <th>epoch</th>\n",
       "      <th>train_loss</th>\n",
       "      <th>valid_loss</th>\n",
       "      <th>accuracy</th>\n",
       "      <th>perplexity</th>\n",
       "      <th>time</th>\n",
       "    </tr>\n",
       "  </thead>\n",
       "  <tbody>\n",
       "    <tr>\n",
       "      <td>0</td>\n",
       "      <td>4.285819</td>\n",
       "      <td>4.146854</td>\n",
       "      <td>0.259100</td>\n",
       "      <td>63.234776</td>\n",
       "      <td>00:11</td>\n",
       "    </tr>\n",
       "    <tr>\n",
       "      <td>1</td>\n",
       "      <td>4.140575</td>\n",
       "      <td>4.089437</td>\n",
       "      <td>0.270702</td>\n",
       "      <td>59.706238</td>\n",
       "      <td>00:11</td>\n",
       "    </tr>\n",
       "    <tr>\n",
       "      <td>2</td>\n",
       "      <td>3.818308</td>\n",
       "      <td>4.048828</td>\n",
       "      <td>0.274285</td>\n",
       "      <td>57.330235</td>\n",
       "      <td>00:11</td>\n",
       "    </tr>\n",
       "    <tr>\n",
       "      <td>3</td>\n",
       "      <td>3.438884</td>\n",
       "      <td>4.090929</td>\n",
       "      <td>0.272465</td>\n",
       "      <td>59.795387</td>\n",
       "      <td>00:11</td>\n",
       "    </tr>\n",
       "  </tbody>\n",
       "</table>"
      ],
      "text/plain": [
       "<IPython.core.display.HTML object>"
      ]
     },
     "metadata": {},
     "output_type": "display_data"
    }
   ],
   "source": [
    "learn.unfreeze()\n",
    "learn.fit_one_cycle(4, 1e-2)"
   ]
  },
  {
   "cell_type": "markdown",
   "metadata": {},
   "source": [
    "Once we have fine-tuned the pretrained language model to this corpus, we save the encoder since we will use it for the classifier."
   ]
  },
  {
   "cell_type": "code",
   "execution_count": null,
   "metadata": {},
   "outputs": [
    {
     "data": {
      "text/html": [],
      "text/plain": [
       "<IPython.core.display.HTML object>"
      ]
     },
     "metadata": {},
     "output_type": "display_data"
    },
    {
     "data": {
      "text/html": [
       "<table border=\"1\" class=\"dataframe\">\n",
       "  <thead>\n",
       "    <tr style=\"text-align: right;\">\n",
       "      <th></th>\n",
       "      <th>input</th>\n",
       "      <th>target</th>\n",
       "      <th>pred</th>\n",
       "    </tr>\n",
       "  </thead>\n",
       "  <tbody>\n",
       "    <tr>\n",
       "      <th>0</th>\n",
       "      <td>xxbos xxmaj very nice action with an xxunk story which actually does n't suck . xxmaj interesting enough to merit watching instead of skipping past to get to the good parts . xxmaj having xxmaj jenna xxmaj xxunk and xxmaj asia xxmaj xxunk helps xxunk it up , too . xxmaj jenna in that xxunk and those xxunk is just xxunk ! xxmaj worth picking up just to see her ! xxbos</td>\n",
       "      <td>xxmaj very nice action with an xxunk story which actually does n't suck . xxmaj interesting enough to merit watching instead of skipping past to get to the good parts . xxmaj having xxmaj jenna xxmaj xxunk and xxmaj asia xxmaj xxunk helps xxunk it up , too . xxmaj jenna in that xxunk and those xxunk is just xxunk ! xxmaj worth picking up just to see her ! xxbos '</td>\n",
       "      <td>xxmaj this good , , a eye story . is makes n't work too xxmaj it to to make the . of watching the the get into the action parts . xxmaj it xxmaj xxunk xxmaj xxunk xxmaj xxmaj xxunk xxmaj xxunk in the the , , xxmaj . xxmaj the xxmaj particular case is xxmaj who are a a . xxmaj the a up , to see xxmaj . xxbos xxmaj</td>\n",
       "    </tr>\n",
       "    <tr>\n",
       "      <th>1</th>\n",
       "      <td>xxmaj if you want a good family movie , this might do . xxmaj it is clean . xxmaj do n't watch it , though , if you are hoping for a xxunk version of the book . i hope that this will be the last movie from this series , but i doubt it . xxmaj if there are more movies made , i wish xxmaj michael xxmaj xxunk , xxmaj</td>\n",
       "      <td>if you want a good family movie , this might do . xxmaj it is clean . xxmaj do n't watch it , though , if you are hoping for a xxunk version of the book . i hope that this will be the last movie from this series , but i doubt it . xxmaj if there are more movies made , i wish xxmaj michael xxmaj xxunk , xxmaj jr</td>\n",
       "      <td>xxunk you are to good movie movie , this is be something xxmaj it 's a and xxmaj it n't watch it . you . it you 're a for a good . of this book . xxbos do that this film be the last film i the era . but i will it . xxbos the you are a movies that , i will they i xxmaj xxunk would xxmaj xxunk</td>\n",
       "    </tr>\n",
       "    <tr>\n",
       "      <th>2</th>\n",
       "      <td>would seem that a film editor cut what might have been the best parts of the film out . xxbos i rented the dubbed - english version of xxmaj xxunk , hoping that since it came from well - known novels it would have some substance . xxmaj while there were hints of substance in the movie , it mostly did n't rise above the level of xxunk cartoon . xxmaj maybe</td>\n",
       "      <td>seem that a film editor cut what might have been the best parts of the film out . xxbos i rented the dubbed - english version of xxmaj xxunk , hoping that since it came from well - known novels it would have some substance . xxmaj while there were hints of substance in the movie , it mostly did n't rise above the level of xxunk cartoon . xxmaj maybe the</td>\n",
       "      <td>be to the film would had the was have been a best film of the film . . xxmaj xxmaj was this movie - english version of xxmaj xxunk xxmaj which that it i would from the - known xxmaj , would be been sort . xxmaj the i are some of humor in this film , it was did n't seem above the level of the . . xxmaj the it</td>\n",
       "    </tr>\n",
       "    <tr>\n",
       "      <th>3</th>\n",
       "      <td>shown how the actors xxunk xxunk shot guns , made pipe bombs and came up with an action plan for \" zero xxmaj day \" . xxmaj the actors ( if you can call them that ) were brilliant , they obviously borrowed heavily from there own lives , but at no stage did i xxunk them really acting ( something xxmaj tom xxmaj cruise should try ) . xxmaj the use</td>\n",
       "      <td>how the actors xxunk xxunk shot guns , made pipe bombs and came up with an action plan for \" zero xxmaj day \" . xxmaj the actors ( if you can call them that ) were brilliant , they obviously borrowed heavily from there own lives , but at no stage did i xxunk them really acting ( something xxmaj tom xxmaj cruise should try ) . xxmaj the use of</td>\n",
       "      <td>in the xxmaj were their and the and and xxunk bombs , xxunk up with them explosive plan . the xxunk xxmaj day \" . xxmaj the movie are including they are see them \" ) are n't . but were did some from the . stories . but they least point did they think them . . . they that xxunk xxmaj hanks did have ) . xxmaj the acting of</td>\n",
       "    </tr>\n",
       "    <tr>\n",
       "      <th>4</th>\n",
       "      <td>went to xxmaj xxunk to save xxmaj han xxmaj solo from xxmaj jabba . xxmaj at the same time , the xxmaj xxunk xxmaj empire is doing in secret , the construction of a new space station like the previous xxmaj death xxmaj star . xxmaj if this station stays totally constructed , it will be the end of the xxmaj rebel xxmaj alliance . xxmaj both xxmaj vader and the xxmaj</td>\n",
       "      <td>to xxmaj xxunk to save xxmaj han xxmaj solo from xxmaj jabba . xxmaj at the same time , the xxmaj xxunk xxmaj empire is doing in secret , the construction of a new space station like the previous xxmaj death xxmaj star . xxmaj if this station stays totally constructed , it will be the end of the xxmaj rebel xxmaj alliance . xxmaj both xxmaj vader and the xxmaj emperor</td>\n",
       "      <td>on the xxunk xxmaj get the xxunk xxmaj solo from xxmaj xxunk . xxmaj the the same time , xxmaj xxmaj xxunk xxmaj empire was xxunk a a , and construction of a new space station is xxmaj xxmaj xxmaj death xxmaj star . xxmaj the you was is under constructed , it will be the last of the war death xxmaj alliance . xxmaj the xxmaj vader and xxmaj xxmaj emperor</td>\n",
       "    </tr>\n",
       "    <tr>\n",
       "      <th>5</th>\n",
       "      <td>mean xxup truly adored it , you will not xxunk of this movie , and chances are , you already knew you would n't . xxmaj because the book is xxunk , and this movie just proves how impossible it is xxunk something decent into a small reel of film . \\n\\n xxmaj two stars out of ten xxbos xxmaj if you really enjoyed the 2002 xxmaj resident xxmaj evil movie ,</td>\n",
       "      <td>xxup truly adored it , you will not xxunk of this movie , and chances are , you already knew you would n't . xxmaj because the book is xxunk , and this movie just proves how impossible it is xxunk something decent into a small reel of film . \\n\\n xxmaj two stars out of ten xxbos xxmaj if you really enjoyed the 2002 xxmaj resident xxmaj evil movie , then</td>\n",
       "      <td>, xxunk , this . but 'll be be it it movie . but you are not you 'll will that would have like xxmaj it it movie is so , it the is is does that the it is to to to . a movie town of film . xxmaj xxmaj the scenes in of ten . xxmaj this you are want xxmaj xxmaj xxmaj xxunk xxmaj evil movie , you</td>\n",
       "    </tr>\n",
       "    <tr>\n",
       "      <th>6</th>\n",
       "      <td>closely , and all of the major news agencies noted that xxmaj moore 's visit came and went without any credible security problems or xxunk in xxmaj utah . \\n\\n xxmaj greenstreet has xxunk on this film to jump - start his film - making career to the point that he has even dropped out of film school to help xxunk this . xxmaj this seems to have been a xxunk xxunk</td>\n",
       "      <td>, and all of the major news agencies noted that xxmaj moore 's visit came and went without any credible security problems or xxunk in xxmaj utah . \\n\\n xxmaj greenstreet has xxunk on this film to jump - start his film - making career to the point that he has even dropped out of film school to help xxunk this . xxmaj this seems to have been a xxunk xxunk though</td>\n",
       "      <td>followed and by the the cast characters agencies have that the xxunk 's xxmaj was with went without a xxunk explanation problems or xxunk . the utah . xxmaj xxmaj the 's always his his film , his - start his film - making career to the point where he has xxunk been out of the school to xxunk xxunk his film xxmaj the is to be been a xxunk xxunk for</td>\n",
       "    </tr>\n",
       "    <tr>\n",
       "      <th>7</th>\n",
       "      <td>fact is what causes your problems and that the reason of your anger hardly ever is caused of what you think of . xxmaj the main message is that you can choose to be happy , but hardly ever do that . \\n\\n xxmaj to watch this movie and learn something very important on life , you have to keep your mind very open and xxunk i s t e n to</td>\n",
       "      <td>is what causes your problems and that the reason of your anger hardly ever is caused of what you think of . xxmaj the main message is that you can choose to be happy , but hardly ever do that . \\n\\n xxmaj to watch this movie and learn something very important on life , you have to keep your mind very open and xxunk i s t e n to all</td>\n",
       "      <td>that that i the problems with what is movie is the xxunk is ever comes given by this is do of . xxmaj it movie point is that you are not from take honest , but do do do . . xxmaj xxmaj the be this movie , watch that about good to the , you will to be your mind open open . open . can n't xxrep xxunk . the</td>\n",
       "    </tr>\n",
       "    <tr>\n",
       "      <th>8</th>\n",
       "      <td>. xxmaj try as i might , no matter how warm and gooey xxmaj raising xxmaj victor xxmaj vargas became i was always aware that something did n't quite feel right . xxmaj victor xxmaj vargas suffers from a certain xxunk on the director 's part . xxmaj apparently , the director thought that the ethnic backdrop of a xxmaj latino family on the lower east side , and an xxunk storyline</td>\n",
       "      <td>xxmaj try as i might , no matter how warm and gooey xxmaj raising xxmaj victor xxmaj vargas became i was always aware that something did n't quite feel right . xxmaj victor xxmaj vargas suffers from a certain xxunk on the director 's part . xxmaj apparently , the director thought that the ethnic backdrop of a xxmaj latino family on the lower east side , and an xxunk storyline would</td>\n",
       "      <td>xxmaj the to you did say i matter what much and xxunk i xxunk xxmaj victor xxmaj vargas is , think surprised xxunk of xxmaj like n't happen happen like . xxmaj the xxmaj vargas is from a lack xxunk of the face 's hand . xxmaj the , the film had that the film background of the xxmaj latino family would the lower east side was and the xxunk of would</td>\n",
       "    </tr>\n",
       "    <tr>\n",
       "      <th>9</th>\n",
       "      <td>xxunk wildly from that approach in favor of something closer to xxunk . xxmaj although he films on actual locations , he keeps his distance . xxmaj the murderers are portrayed as xxunk xxunk , which surely they were . xxmaj they 're not seen as xxunk souls ( as in the xxmaj capote book ) and the xxunk of their act is xxunk blunt . xxmaj scott xxmaj wilson and xxmaj</td>\n",
       "      <td>wildly from that approach in favor of something closer to xxunk . xxmaj although he films on actual locations , he keeps his distance . xxmaj the murderers are portrayed as xxunk xxunk , which surely they were . xxmaj they 're not seen as xxunk souls ( as in the xxmaj capote book ) and the xxunk of their act is xxunk blunt . xxmaj scott xxmaj wilson and xxmaj robert</td>\n",
       "      <td>, from the xxunk . a of xxunk more to xxunk . xxmaj the the has in the xxunk , he does his camera . xxmaj he xxunk are xxunk as xxunk , , who is they were . xxmaj the are not xxunk as xxunk , , and in the film xxunk book ) , the xxunk of the xxunk is xxunk . . xxmaj the xxmaj wilson and xxmaj xxunk</td>\n",
       "    </tr>\n",
       "  </tbody>\n",
       "</table>"
      ],
      "text/plain": [
       "<IPython.core.display.HTML object>"
      ]
     },
     "metadata": {},
     "output_type": "display_data"
    }
   ],
   "source": [
    "learn.show_results()"
   ]
  },
  {
   "cell_type": "code",
   "execution_count": null,
   "metadata": {},
   "outputs": [],
   "source": [
    "learn.save_encoder('enc1')"
   ]
  },
  {
   "cell_type": "markdown",
   "metadata": {},
   "source": [
    "## Use it to train a classifier"
   ]
  },
  {
   "cell_type": "markdown",
   "metadata": {},
   "source": [
    "For classification, we need to use two set of transforms: one to numericalize the texts and the other to encode the labels as categories. Note that we have to use the same vocabulary as the one used in fine-tuning the language model."
   ]
  },
  {
   "cell_type": "code",
   "execution_count": null,
   "metadata": {},
   "outputs": [],
   "source": [
    "lm_vocab = dbunch.vocab"
   ]
  },
  {
   "cell_type": "code",
   "execution_count": null,
   "metadata": {},
   "outputs": [
    {
     "data": {
      "text/html": [],
      "text/plain": [
       "<IPython.core.display.HTML object>"
      ]
     },
     "metadata": {},
     "output_type": "display_data"
    }
   ],
   "source": [
    "splits = ColSplitter()(df)\n",
    "x_tfms = [attrgetter(\"text\"), Tokenizer.from_df(\"text\"), Numericalize(vocab=lm_vocab)]\n",
    "dsrc = DataSource(df, splits=splits, tfms=[x_tfms, [attrgetter(\"label\"), Categorize()]], dl_type=SortedDL)"
   ]
  },
  {
   "cell_type": "markdown",
   "metadata": {},
   "source": [
    "We once again use a subclass of `TfmdDL` for the dataloaders, since we want to sort the texts (sortish for the training set) by order of lengths. We also use `pad_collate` to create batches form texts of different lengths."
   ]
  },
  {
   "cell_type": "code",
   "execution_count": null,
   "metadata": {},
   "outputs": [],
   "source": [
    "dbunch = dsrc.databunch(before_batch=pad_input, after_batch=Cuda)"
   ]
  },
  {
   "cell_type": "markdown",
   "metadata": {},
   "source": [
    "And there is a factory method, once again:"
   ]
  },
  {
   "cell_type": "code",
   "execution_count": null,
   "metadata": {},
   "outputs": [
    {
     "data": {
      "text/html": [],
      "text/plain": [
       "<IPython.core.display.HTML object>"
      ]
     },
     "metadata": {},
     "output_type": "display_data"
    }
   ],
   "source": [
    "dbunch = TextDataBunch.from_df(df, text_col=\"text\", text_vocab=lm_vocab, label_col='label', valid_col='is_valid', bs=32)"
   ]
  },
  {
   "cell_type": "code",
   "execution_count": null,
   "metadata": {},
   "outputs": [
    {
     "data": {
      "text/html": [
       "<table border=\"1\" class=\"dataframe\">\n",
       "  <thead>\n",
       "    <tr style=\"text-align: right;\">\n",
       "      <th></th>\n",
       "      <th>text</th>\n",
       "      <th>category</th>\n",
       "    </tr>\n",
       "  </thead>\n",
       "  <tbody>\n",
       "    <tr>\n",
       "      <th>0</th>\n",
       "      <td>xxbos xxmaj raising xxmaj victor xxmaj vargas : a xxmaj review \\n\\n xxmaj you know , xxmaj raising xxmaj victor xxmaj vargas is like sticking your hands into a big , xxunk bowl of xxunk . xxmaj it 's warm and gooey , but you 're not sure if it feels right . xxmaj try as i might , no</td>\n",
       "      <td>negative</td>\n",
       "    </tr>\n",
       "    <tr>\n",
       "      <th>1</th>\n",
       "      <td>xxbos xxup the xxup shop xxup around xxup the xxup corner is one of the xxunk and most feel - good romantic comedies ever made . xxmaj there 's just no getting around that , and it 's hard to actually put one 's feeling for this film into words . xxmaj it 's not one of those films that</td>\n",
       "      <td>positive</td>\n",
       "    </tr>\n",
       "  </tbody>\n",
       "</table>"
      ],
      "text/plain": [
       "<IPython.core.display.HTML object>"
      ]
     },
     "metadata": {},
     "output_type": "display_data"
    }
   ],
   "source": [
    "dbunch.show_batch(max_n=2, trunc_at=60)"
   ]
  },
  {
   "cell_type": "markdown",
   "metadata": {},
   "source": [
    "Then we once again have a convenience function to create a classifier from this `DataBunch` with the `AWD_LSTM` architecture."
   ]
  },
  {
   "cell_type": "code",
   "execution_count": null,
   "metadata": {},
   "outputs": [],
   "source": [
    "learn = text_classifier_learner(dbunch, AWD_LSTM, metrics=[accuracy], path=path,drop_mult=0.5)"
   ]
  },
  {
   "cell_type": "code",
   "execution_count": null,
   "metadata": {},
   "outputs": [],
   "source": [
    "learn = learn.load_encoder('enc1')"
   ]
  },
  {
   "cell_type": "markdown",
   "metadata": {},
   "source": [
    "Then we can train with gradual unfreezing and differential learning rates."
   ]
  },
  {
   "cell_type": "code",
   "execution_count": null,
   "metadata": {},
   "outputs": [
    {
     "data": {
      "text/html": [
       "<table border=\"1\" class=\"dataframe\">\n",
       "  <thead>\n",
       "    <tr style=\"text-align: left;\">\n",
       "      <th>epoch</th>\n",
       "      <th>train_loss</th>\n",
       "      <th>valid_loss</th>\n",
       "      <th>accuracy</th>\n",
       "      <th>time</th>\n",
       "    </tr>\n",
       "  </thead>\n",
       "  <tbody>\n",
       "    <tr>\n",
       "      <td>0</td>\n",
       "      <td>0.740185</td>\n",
       "      <td>0.641235</td>\n",
       "      <td>0.565000</td>\n",
       "      <td>00:06</td>\n",
       "    </tr>\n",
       "    <tr>\n",
       "      <td>1</td>\n",
       "      <td>0.586413</td>\n",
       "      <td>0.497715</td>\n",
       "      <td>0.760000</td>\n",
       "      <td>00:05</td>\n",
       "    </tr>\n",
       "    <tr>\n",
       "      <td>2</td>\n",
       "      <td>0.509310</td>\n",
       "      <td>0.462465</td>\n",
       "      <td>0.755000</td>\n",
       "      <td>00:05</td>\n",
       "    </tr>\n",
       "    <tr>\n",
       "      <td>3</td>\n",
       "      <td>0.454171</td>\n",
       "      <td>0.467430</td>\n",
       "      <td>0.755000</td>\n",
       "      <td>00:05</td>\n",
       "    </tr>\n",
       "  </tbody>\n",
       "</table>"
      ],
      "text/plain": [
       "<IPython.core.display.HTML object>"
      ]
     },
     "metadata": {},
     "output_type": "display_data"
    }
   ],
   "source": [
    "learn.fit_one_cycle(4)"
   ]
  },
  {
   "cell_type": "code",
   "execution_count": null,
   "metadata": {},
   "outputs": [
    {
     "data": {
      "text/html": [
       "<table border=\"1\" class=\"dataframe\">\n",
       "  <thead>\n",
       "    <tr style=\"text-align: left;\">\n",
       "      <th>epoch</th>\n",
       "      <th>train_loss</th>\n",
       "      <th>valid_loss</th>\n",
       "      <th>accuracy</th>\n",
       "      <th>time</th>\n",
       "    </tr>\n",
       "  </thead>\n",
       "  <tbody>\n",
       "    <tr>\n",
       "      <td>0</td>\n",
       "      <td>0.432282</td>\n",
       "      <td>0.463266</td>\n",
       "      <td>0.750000</td>\n",
       "      <td>00:10</td>\n",
       "    </tr>\n",
       "    <tr>\n",
       "      <td>1</td>\n",
       "      <td>0.402960</td>\n",
       "      <td>0.462794</td>\n",
       "      <td>0.800000</td>\n",
       "      <td>00:10</td>\n",
       "    </tr>\n",
       "    <tr>\n",
       "      <td>2</td>\n",
       "      <td>0.368824</td>\n",
       "      <td>0.492125</td>\n",
       "      <td>0.785000</td>\n",
       "      <td>00:10</td>\n",
       "    </tr>\n",
       "    <tr>\n",
       "      <td>3</td>\n",
       "      <td>0.338550</td>\n",
       "      <td>0.444738</td>\n",
       "      <td>0.820000</td>\n",
       "      <td>00:11</td>\n",
       "    </tr>\n",
       "    <tr>\n",
       "      <td>4</td>\n",
       "      <td>0.305834</td>\n",
       "      <td>0.433889</td>\n",
       "      <td>0.825000</td>\n",
       "      <td>00:11</td>\n",
       "    </tr>\n",
       "    <tr>\n",
       "      <td>5</td>\n",
       "      <td>0.269694</td>\n",
       "      <td>0.474207</td>\n",
       "      <td>0.810000</td>\n",
       "      <td>00:11</td>\n",
       "    </tr>\n",
       "    <tr>\n",
       "      <td>6</td>\n",
       "      <td>0.244303</td>\n",
       "      <td>0.471722</td>\n",
       "      <td>0.825000</td>\n",
       "      <td>00:09</td>\n",
       "    </tr>\n",
       "    <tr>\n",
       "      <td>7</td>\n",
       "      <td>0.226905</td>\n",
       "      <td>0.469794</td>\n",
       "      <td>0.815000</td>\n",
       "      <td>00:10</td>\n",
       "    </tr>\n",
       "  </tbody>\n",
       "</table>"
      ],
      "text/plain": [
       "<IPython.core.display.HTML object>"
      ]
     },
     "metadata": {},
     "output_type": "display_data"
    }
   ],
   "source": [
    "learn.unfreeze()\n",
    "learn.opt = learn.create_opt()\n",
    "learn.fit_one_cycle(8, slice(1e-5,1e-3))"
   ]
  },
  {
   "cell_type": "code",
   "execution_count": null,
   "metadata": {},
   "outputs": [
    {
     "data": {
      "text/html": [],
      "text/plain": [
       "<IPython.core.display.HTML object>"
      ]
     },
     "metadata": {},
     "output_type": "display_data"
    },
    {
     "data": {
      "text/html": [
       "<table border=\"1\" class=\"dataframe\">\n",
       "  <thead>\n",
       "    <tr style=\"text-align: right;\">\n",
       "      <th></th>\n",
       "      <th>text</th>\n",
       "      <th>category</th>\n",
       "      <th>category_</th>\n",
       "    </tr>\n",
       "  </thead>\n",
       "  <tbody>\n",
       "    <tr>\n",
       "      <th>0</th>\n",
       "      <td>xxbos xxmaj raising xxmaj victor xxmaj vargas : a xxmaj review \\n\\n xxmaj you know , xxmaj raising xxmaj victor xxmaj vargas is like sticking your hands into a big , xxunk bowl of xxunk . xxmaj it 's warm and gooey , but you 're not sure if it feels right . xxmaj try as i might , no</td>\n",
       "      <td>negative</td>\n",
       "      <td>negative</td>\n",
       "    </tr>\n",
       "    <tr>\n",
       "      <th>1</th>\n",
       "      <td>xxbos xxup the xxup shop xxup around xxup the xxup corner is one of the xxunk and most feel - good romantic comedies ever made . xxmaj there 's just no getting around that , and it 's hard to actually put one 's feeling for this film into words . xxmaj it 's not one of those films that</td>\n",
       "      <td>positive</td>\n",
       "      <td>positive</td>\n",
       "    </tr>\n",
       "  </tbody>\n",
       "</table>"
      ],
      "text/plain": [
       "<IPython.core.display.HTML object>"
      ]
     },
     "metadata": {},
     "output_type": "display_data"
    }
   ],
   "source": [
    "learn.show_results(max_n=2, trunc_at=60)"
   ]
  },
  {
   "cell_type": "code",
   "execution_count": null,
   "metadata": {},
   "outputs": [],
   "source": [
    "from fastai2.interpret import *"
   ]
  },
  {
   "cell_type": "code",
   "execution_count": null,
   "metadata": {},
   "outputs": [
    {
     "data": {
      "text/html": [],
      "text/plain": [
       "<IPython.core.display.HTML object>"
      ]
     },
     "metadata": {},
     "output_type": "display_data"
    }
   ],
   "source": [
    "interp = Interpretation.from_learner(learn)"
   ]
  },
  {
   "cell_type": "code",
   "execution_count": null,
   "metadata": {},
   "outputs": [
    {
     "data": {
      "text/html": [
       "<table border=\"1\" class=\"dataframe\">\n",
       "  <thead>\n",
       "    <tr style=\"text-align: right;\">\n",
       "      <th></th>\n",
       "      <th>input</th>\n",
       "      <th>target</th>\n",
       "      <th>predicted</th>\n",
       "      <th>probability</th>\n",
       "      <th>loss</th>\n",
       "    </tr>\n",
       "  </thead>\n",
       "  <tbody>\n",
       "    <tr>\n",
       "      <th>0</th>\n",
       "      <td>xxbos xxmaj i 'm gon na xxunk the xxunk here a bit and say i enjoyed this . xxmaj however , the cartoon is really only going to appeal to those who have very xxunk xxunk . xxmaj it 's definitely something that most people will not get , as is the nature of xxunk . \\n\\n the animation is horrible , but yes , that 's the point . xxmaj the main character is foul mouthed , violent , and stupid . no redeeming qualities whatsoever . his wife xxunk and xxunk , apparently just barely capable of the most basic xxunk skills . most of these stories completely lack any kind of point . \\n\\n but again , that 's the point xxunk \\n\\n xxmaj if non xxunk , foul language , and complete and utter xxunk are your thing , you 're going to love this .</td>\n",
       "      <td>positive</td>\n",
       "      <td>negative</td>\n",
       "      <td>0.9972332119941711</td>\n",
       "      <td>5.890044212341309</td>\n",
       "    </tr>\n",
       "    <tr>\n",
       "      <th>1</th>\n",
       "      <td>xxbos xxmaj most italian horror lovers seem to hate this movie since because it has no connection to the first two xxmaj demons films . xxmaj and with the \" demons xxrep 3 i \" in the title , one would assume it would . xxmaj the problem is that this film was never intended to be part of the xxmaj demons series . xxmaj the distributors only a \" demons xxrep 3 i \" above its original title \" the xxmaj ogre \" to cash in on the other films popularity . xxmaj the new xxmaj american xxup dvd release of this picture has the title \" demons xxrep 3 i : xxmaj the xxmaj ogre \" on the box art but the film itself only says \" the xxmaj ogre \" . i do n't know if past releases had the title \" demons xxrep 3 i \"</td>\n",
       "      <td>positive</td>\n",
       "      <td>negative</td>\n",
       "      <td>0.9962806105613708</td>\n",
       "      <td>5.594207763671875</td>\n",
       "    </tr>\n",
       "    <tr>\n",
       "      <th>2</th>\n",
       "      <td>xxbos xxmaj while i count myself as a fan of the xxmaj xxunk 5 television series , the original movie that introduced the series was a weak start . xxmaj although many of the elements that would later mature and become much more compelling in the series are there , the pace of xxmaj the xxmaj gathering is slow , the makeup somewhat inadequate , and the plot confusing . xxmaj worse , the characterization in the premiere episode is poor . xxmaj although the ratings xxunk shows that many fans are willing to overlook these problems , i remember xxmaj the xxmaj gathering almost turned me off off what soon grew into a spectacular series .</td>\n",
       "      <td>negative</td>\n",
       "      <td>positive</td>\n",
       "      <td>0.985458254814148</td>\n",
       "      <td>4.230735778808594</td>\n",
       "    </tr>\n",
       "    <tr>\n",
       "      <th>3</th>\n",
       "      <td>xxbos xxmaj weaker entry in the xxmaj xxunk xxmaj drummond series , with xxmaj john xxmaj howard in the role . xxmaj usual funny xxunk and antics , but not much plot . xxmaj barrymore gets something to do as the inspector , xxunk xxunk to follow xxmaj drummond , xxmaj algy , and xxmaj xxunk on a wild xxunk chase ( mostly in circles ; perhaps the budget was tighter than usual ) to rescue poor xxmaj xxunk , who is being held captive by people who want to lure xxmaj drummond to his doom . xxmaj for those keeping score , in this one , xxmaj drummond is planning to ask xxmaj xxunk to marry him and xxmaj algy is worried about missing the baby 's xxunk . xxmaj it 's fun to see xxmaj algy and xxmaj xxunk dressed up as xxunk to blend in at xxmaj</td>\n",
       "      <td>negative</td>\n",
       "      <td>positive</td>\n",
       "      <td>0.9851903319358826</td>\n",
       "      <td>4.2124786376953125</td>\n",
       "    </tr>\n",
       "    <tr>\n",
       "      <th>4</th>\n",
       "      <td>xxbos xxmaj this movie is xxunk in a ' so bad it 's good ' kind of way . \\n\\n xxmaj the storyline is xxunk from so many other films of this kind , that xxmaj i 'm not going to even bother xxunk it . xxmaj it 's a sword / sorcery picture , has a kid hoping to realize how important he is in this world , has a \" xxunk \" xxunk , an evil xxunk / xxunk , a princess , a hairy creature … xxunk get the point . \\n\\n xxmaj the first time i caught this movie was during a very harsh winter . i do n't know why i decided to continue watching it for an extra five minutes before turning the channel , but when i caught site of xxmaj gulfax , i decided to stay and watch it until the end</td>\n",
       "      <td>positive</td>\n",
       "      <td>negative</td>\n",
       "      <td>0.9814806580543518</td>\n",
       "      <td>3.9889371395111084</td>\n",
       "    </tr>\n",
       "    <tr>\n",
       "      <th>5</th>\n",
       "      <td>xxbos xxmaj for anyone who may not know what a one - actor movie was like , this is the best example . xxmaj this plot is ridiculous , and really makes no sense . xxmaj it 's full of xxunk situations , hackneyed lines , melodrama , comedy … you name it ! \\n\\n xxmaj but xxmaj xxunk xxmaj xxunk can make anything convincing , and this movie is by no means an exception . xxmaj everyone turns in a decent performance - xxmaj xxunk xxmaj xxunk , xxmaj xxunk xxmaj xxunk , xxmaj xxunk , xxmaj om xxmaj xxunk , xxmaj xxunk xxmaj xxunk … xxmaj but it is the xxmaj xxunk who xxunk everyone with his xxunk presence . xxmaj without him , this movie would have been a non - xxunk … xxmaj the story is about xxunk / mistaken identities / misunderstandings / love /</td>\n",
       "      <td>positive</td>\n",
       "      <td>negative</td>\n",
       "      <td>0.9746053814888</td>\n",
       "      <td>3.6732177734375</td>\n",
       "    </tr>\n",
       "  </tbody>\n",
       "</table>"
      ],
      "text/plain": [
       "<IPython.core.display.HTML object>"
      ]
     },
     "metadata": {},
     "output_type": "display_data"
    }
   ],
   "source": [
    "interp.plot_top_losses(6)"
   ]
  },
  {
   "cell_type": "code",
   "execution_count": null,
   "metadata": {},
   "outputs": [],
   "source": []
  }
 ],
 "metadata": {
  "kernelspec": {
   "display_name": "Python 3",
   "language": "python",
   "name": "python3"
  }
 },
 "nbformat": 4,
 "nbformat_minor": 2
}
