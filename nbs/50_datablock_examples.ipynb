{
 "cells": [
  {
   "cell_type": "code",
   "execution_count": null,
   "metadata": {},
   "outputs": [],
   "source": [
    "from fastai2.data.all import *\n",
    "from nbdev.showdoc import show_doc"
   ]
  },
  {
   "cell_type": "markdown",
   "metadata": {},
   "source": [
    "# Data block examples\n",
    "\n",
    "> Examples for computer vision, NLP, and tabular"
   ]
  },
  {
   "cell_type": "markdown",
   "metadata": {},
   "source": [
    "## Image classification"
   ]
  },
  {
   "cell_type": "code",
   "execution_count": null,
   "metadata": {},
   "outputs": [],
   "source": [
    "from fastai2.vision.all import *"
   ]
  },
  {
   "cell_type": "markdown",
   "metadata": {},
   "source": [
    "### MNIST"
   ]
  },
  {
   "cell_type": "code",
   "execution_count": null,
   "metadata": {},
   "outputs": [],
   "source": [
    "torch.set_printoptions(threshold=400, linewidth=120)"
   ]
  },
  {
   "cell_type": "code",
   "execution_count": null,
   "metadata": {},
   "outputs": [
    {
     "data": {
      "image/png": "[encoded data removed]",
      "text/plain": [
       "<Figure size 288x288 with 9 Axes>"
      ]
     },
     "metadata": {
      "needs_background": "light"
     },
     "output_type": "display_data"
    }
   ],
   "source": [
    "mnist = DataBlock(blocks=(ImageBlock(cls=PILImageBW), CategoryBlock), \n",
    "                  get_items=get_image_files, \n",
    "                  splitter=GrandparentSplitter(),\n",
    "                  get_y=parent_label)\n",
    "\n",
    "dls = mnist.dataloaders(untar_data(URLs.MNIST_TINY))\n",
    "dls.show_batch(max_n=9, figsize=(4,4))"
   ]
  },
  {
   "cell_type": "code",
   "execution_count": null,
   "metadata": {},
   "outputs": [
    {
     "name": "stdout",
     "output_type": "stream",
     "text": [
      "Setting-up type transforms pipelines\n",
      "Collecting items from /home/jhoward/.fastai/data/mnist_tiny\n",
      "Found 1428 items\n",
      "2 datasets of sizes 709,699\n",
      "Setting up Pipeline: PILBase.create\n",
      "Setting up Pipeline: parent_label -> Categorize\n",
      "\n",
      "Building one sample\n",
      "  Pipeline: PILBase.create\n",
      "    starting from\n",
      "      /home/jhoward/.fastai/data/mnist_tiny/train/7/723.png\n",
      "    applying PILBase.create gives\n",
      "      <fastai2.vision.core.PILImageBW image mode=L size=28x28 at 0x7F936B6B8290>\n",
      "  Pipeline: parent_label -> Categorize\n",
      "    starting from\n",
      "      /home/jhoward/.fastai/data/mnist_tiny/train/7/723.png\n",
      "    applying parent_label gives\n",
      "      7\n",
      "    applying Categorize gives\n",
      "      TensorCategory(1)\n",
      "\n",
      "Final sample: (<fastai2.vision.core.PILImageBW image mode=L size=28x28 at 0x7F9366C06BD0>, TensorCategory(1))\n",
      "\n",
      "\n",
      "Setting up after_item: Pipeline: ToTensor\n",
      "Setting up before_batch: Pipeline: \n",
      "Setting up after_batch: Pipeline: IntToFloatTensor\n",
      "\n",
      "Building one batch\n",
      "Applying item_tfms to the first sample:\n",
      "  Pipeline: ToTensor\n",
      "    starting from\n",
      "      (<fastai2.vision.core.PILImageBW image mode=L size=28x28 at 0x7F9366C06E10>, TensorCategory(1))\n",
      "    applying ToTensor gives\n",
      "      (TensorImageBW of size 1x28x28, TensorCategory(1))\n",
      "\n",
      "Adding the next 3 samples\n",
      "\n",
      "No before_batch transform to apply\n",
      "\n",
      "Collating items in a batch\n",
      "\n",
      "Applying batch_tfms to the batch built\n",
      "  Pipeline: IntToFloatTensor\n",
      "    starting from\n",
      "      (TensorImageBW of size 4x1x28x28, TensorCategory([1, 1, 1, 1]))\n",
      "    applying IntToFloatTensor gives\n",
      "      (TensorImageBW of size 4x1x28x28, TensorCategory([1, 1, 1, 1]))\n"
     ]
    }
   ],
   "source": [
    "mnist.summary(untar_data(URLs.MNIST_TINY))"
   ]
  },
  {
   "cell_type": "markdown",
   "metadata": {},
   "source": [
    "### Pets"
   ]
  },
  {
   "cell_type": "code",
   "execution_count": null,
   "metadata": {},
   "outputs": [],
   "source": [
    "pets = DataBlock(blocks=(ImageBlock, CategoryBlock), \n",
    "                 get_items=get_image_files, \n",
    "                 splitter=RandomSplitter(),\n",
    "                 get_y=RegexLabeller(pat = r'/([^/]+)_\\d+.jpg$'),\n",
    "                 item_tfms=Resize(128),\n",
    "                 batch_tfms=aug_transforms())\n",
    "\n",
    "dls = pets.dataloaders(untar_data(URLs.PETS)/\"images\")\n",
    "dls.show_batch(max_n=9)"
   ]
  },
  {
   "cell_type": "markdown",
   "metadata": {},
   "source": [
    "### Multi-label - Planet"
   ]
  },
  {
   "cell_type": "code",
   "execution_count": null,
   "metadata": {},
   "outputs": [],
   "source": [
    "planet_source = untar_data(URLs.PLANET_TINY)\n",
    "df = pd.read_csv(planet_source/\"labels.csv\")"
   ]
  },
  {
   "cell_type": "code",
   "execution_count": null,
   "metadata": {},
   "outputs": [],
   "source": [
    "planet = DataBlock(blocks=(ImageBlock, MultiCategoryBlock),\n",
    "                   get_x=ColReader(0, pref=planet_source/\"train\", suff='.jpg'),\n",
    "                   splitter=RandomSplitter(),\n",
    "                   get_y=ColReader(1, label_delim=' '),\n",
    "                   batch_tfms=aug_transforms(flip_vert=True, max_lighting=0.1, max_zoom=1.05, max_warp=0.))"
   ]
  },
  {
   "cell_type": "code",
   "execution_count": null,
   "metadata": {},
   "outputs": [],
   "source": [
    "dls = planet.dataloaders(df.values)\n",
    "dls.show_batch(max_n=9, figsize=(12,9))"
   ]
  },
  {
   "cell_type": "code",
   "execution_count": null,
   "metadata": {},
   "outputs": [],
   "source": [
    "planet = DataBlock(blocks=(ImageBlock, MultiCategoryBlock),\n",
    "                   get_x=lambda x:planet_source/\"train\"/f'{x[0]}.jpg',\n",
    "                   splitter=RandomSplitter(),\n",
    "                   get_y=lambda x:x[1].split(' '),\n",
    "                   batch_tfms=aug_transforms(flip_vert=True, max_lighting=0.1, max_zoom=1.05, max_warp=0.))\n",
    "\n",
    "dls = planet.dataloaders(df.values)\n",
    "dls.show_batch(max_n=9, figsize=(12,9))"
   ]
  },
  {
   "cell_type": "code",
   "execution_count": null,
   "metadata": {},
   "outputs": [],
   "source": [
    "def _planet_items(x): return (\n",
    "    f'{planet_source}/train/'+x.image_name+'.jpg', x.tags.str.split())\n",
    "\n",
    "planet = DataBlock.from_columns(blocks=(ImageBlock, MultiCategoryBlock),\n",
    "                   get_items = _planet_items,\n",
    "                   splitter = RandomSplitter(),\n",
    "                   batch_tfms=aug_transforms(flip_vert=True, max_lighting=0.1, max_zoom=1.05, max_warp=0.))"
   ]
  },
  {
   "cell_type": "code",
   "execution_count": null,
   "metadata": {},
   "outputs": [],
   "source": [
    "dls = planet.dataloaders(df)\n",
    "dls.show_batch(max_n=9, figsize=(12,9))"
   ]
  },
  {
   "cell_type": "code",
   "execution_count": null,
   "metadata": {},
   "outputs": [],
   "source": [
    "planet = DataBlock(blocks=(ImageBlock, MultiCategoryBlock),\n",
    "                   get_x = lambda o:f'{planet_source}/train/'+o.image_name+'.jpg',\n",
    "                   get_y = lambda o:o.tags.split(),\n",
    "                   splitter = RandomSplitter(),\n",
    "                   batch_tfms=aug_transforms(flip_vert=True, max_lighting=0.1, max_zoom=1.05, max_warp=0.))"
   ]
  },
  {
   "cell_type": "code",
   "execution_count": null,
   "metadata": {},
   "outputs": [],
   "source": [
    "dls = planet.dataloaders(df)\n",
    "dls.show_batch(max_n=9, figsize=(12,9))"
   ]
  },
  {
   "cell_type": "markdown",
   "metadata": {},
   "source": [
    "## Image localization"
   ]
  },
  {
   "cell_type": "markdown",
   "metadata": {},
   "source": [
    "### Segmentation"
   ]
  },
  {
   "cell_type": "code",
   "execution_count": null,
   "metadata": {},
   "outputs": [],
   "source": [
    "camvid = DataBlock(blocks=(ImageBlock, ImageBlock(cls=PILMask)),\n",
    "    get_items=get_image_files,\n",
    "    splitter=RandomSplitter(),\n",
    "    get_y=lambda o: untar_data(URLs.CAMVID_TINY)/'labels'/f'{o.stem}_P{o.suffix}',\n",
    "    batch_tfms=aug_transforms())\n",
    "\n",
    "dls = camvid.dataloaders(untar_data(URLs.CAMVID_TINY)/\"images\")\n",
    "dls.show_batch(max_n=9, vmin=1, vmax=30)"
   ]
  },
  {
   "cell_type": "markdown",
   "metadata": {},
   "source": [
    "### Points"
   ]
  },
  {
   "cell_type": "code",
   "execution_count": null,
   "metadata": {},
   "outputs": [],
   "source": [
    "biwi_source = untar_data(URLs.BIWI_SAMPLE)\n",
    "fn2ctr = (biwi_source/'centers.pkl').load()\n",
    "\n",
    "biwi = DataBlock(blocks=(ImageBlock, PointBlock),\n",
    "                 get_items=get_image_files,\n",
    "                 splitter=RandomSplitter(),\n",
    "                 get_y=lambda o:fn2ctr[o.name].flip(0),\n",
    "                 batch_tfms=aug_transforms())\n",
    "\n",
    "dls = biwi.dataloaders(biwi_source)\n",
    "dls.show_batch(max_n=9)"
   ]
  },
  {
   "cell_type": "markdown",
   "metadata": {},
   "source": [
    "### Bounding boxes"
   ]
  },
  {
   "cell_type": "code",
   "execution_count": null,
   "metadata": {},
   "outputs": [],
   "source": [
    "coco_source = untar_data(URLs.COCO_TINY)\n",
    "images, lbl_bbox = get_annotations(coco_source/'train.json')\n",
    "img2bbox = dict(zip(images, lbl_bbox))"
   ]
  },
  {
   "cell_type": "code",
   "execution_count": null,
   "metadata": {},
   "outputs": [],
   "source": [
    "coco = DataBlock(blocks=(ImageBlock, BBoxBlock, BBoxLblBlock),\n",
    "                 get_items=get_image_files,\n",
    "                 splitter=RandomSplitter(),\n",
    "                 getters=[noop, lambda o: img2bbox[o.name][0], lambda o: img2bbox[o.name][1]], \n",
    "                 item_tfms=Resize(128),\n",
    "                 batch_tfms=aug_transforms(),\n",
    "                 n_inp=1)"
   ]
  },
  {
   "cell_type": "code",
   "execution_count": null,
   "metadata": {},
   "outputs": [],
   "source": [
    "dls = coco.dataloaders(coco_source)\n",
    "dls.show_batch(max_n=9)"
   ]
  },
  {
   "cell_type": "markdown",
   "metadata": {},
   "source": [
    "## Text"
   ]
  },
  {
   "cell_type": "markdown",
   "metadata": {},
   "source": [
    "### Language model"
   ]
  },
  {
   "cell_type": "code",
   "execution_count": null,
   "metadata": {},
   "outputs": [],
   "source": [
    "from fastai2.text.all import *"
   ]
  },
  {
   "cell_type": "code",
   "execution_count": null,
   "metadata": {},
   "outputs": [],
   "source": [
    "path = untar_data(URLs.IMDB_SAMPLE)\n",
    "df = pd.read_csv(path/'texts.csv')"
   ]
  },
  {
   "cell_type": "code",
   "execution_count": null,
   "metadata": {},
   "outputs": [],
   "source": [
    "imdb_lm = DataBlock(blocks=(TextBlock.from_df('text', is_lm=True),),\n",
    "                    get_x=attrgetter('text'),\n",
    "                    splitter=RandomSplitter())"
   ]
  },
  {
   "cell_type": "code",
   "execution_count": null,
   "metadata": {},
   "outputs": [],
   "source": [
    "dls = imdb_lm.dataloaders(df, bs=64, seq_len=72)"
   ]
  },
  {
   "cell_type": "code",
   "execution_count": null,
   "metadata": {},
   "outputs": [],
   "source": [
    "dls.show_batch(max_n=6)"
   ]
  },
  {
   "cell_type": "markdown",
   "metadata": {},
   "source": [
    "### Text classification"
   ]
  },
  {
   "cell_type": "code",
   "execution_count": null,
   "metadata": {},
   "outputs": [],
   "source": [
    "imdb_clas = DataBlock(blocks=(TextBlock.from_df('text', vocab=dls.vocab), CategoryBlock),\n",
    "                      get_x=attrgetter('text'),\n",
    "                      get_y=attrgetter('label'),\n",
    "                      splitter=RandomSplitter())"
   ]
  },
  {
   "cell_type": "code",
   "execution_count": null,
   "metadata": {},
   "outputs": [],
   "source": [
    "dls = imdb_clas.dataloaders(df, bs=64, seq_len=72)"
   ]
  },
  {
   "cell_type": "code",
   "execution_count": null,
   "metadata": {},
   "outputs": [],
   "source": [
    "dls.show_batch(max_n=2)"
   ]
  },
  {
   "cell_type": "markdown",
   "metadata": {},
   "source": [
    "## Tabular data TODO"
   ]
  },
  {
   "cell_type": "code",
   "execution_count": null,
   "metadata": {},
   "outputs": [],
   "source": [
    "from fastai2.tabular.core import *"
   ]
  },
  {
   "cell_type": "code",
   "execution_count": null,
   "metadata": {},
   "outputs": [],
   "source": [
    "adult_source = untar_data(URLs.ADULT_SAMPLE)\n",
    "df = pd.read_csv(adult_source/'adult.csv')"
   ]
  },
  {
   "cell_type": "code",
   "execution_count": null,
   "metadata": {},
   "outputs": [],
   "source": [
    "cat_names = ['workclass', 'education', 'marital-status', 'occupation', 'relationship', 'race']\n",
    "cont_names = ['age', 'fnlwgt', 'education-num']\n",
    "procs = [Categorify, FillMissing, Normalize]\n",
    "splits = RandomSplitter()(range_of(df))"
   ]
  },
  {
   "cell_type": "code",
   "execution_count": null,
   "metadata": {},
   "outputs": [],
   "source": [
    "to = TabularPandas(df, procs, cat_names, cont_names, y_names=\"salary\", splits=splits)"
   ]
  },
  {
   "cell_type": "code",
   "execution_count": null,
   "metadata": {},
   "outputs": [],
   "source": [
    "dls = to.dataloaders()\n",
    "dls.show_batch()"
   ]
  },
  {
   "cell_type": "code",
   "execution_count": null,
   "metadata": {},
   "outputs": [],
   "source": []
  }
 ],
 "metadata": {
  "kernelspec": {
   "display_name": "Python 3",
   "language": "python",
   "name": "python3"
  }
 },
 "nbformat": 4,
 "nbformat_minor": 2
}
