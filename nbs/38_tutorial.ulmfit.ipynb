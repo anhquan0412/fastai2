{
 "cells": [
  {
   "cell_type": "code",
   "execution_count": null,
   "metadata": {},
   "outputs": [],
   "source": [
    "from fastai2.basics import *\n",
    "from fastai2.text.all import *\n",
    "from fastai2.callback.all import *"
   ]
  },
  {
   "cell_type": "code",
   "execution_count": null,
   "metadata": {},
   "outputs": [],
   "source": [
    "from nbdev.showdoc import *"
   ]
  },
  {
   "cell_type": "code",
   "execution_count": null,
   "metadata": {},
   "outputs": [],
   "source": [
    "# all_slow"
   ]
  },
  {
   "cell_type": "markdown",
   "metadata": {},
   "source": [
    "# Transfer learning in text\n",
    "\n",
    "> How to fine-tune a language model and train a classifier"
   ]
  },
  {
   "cell_type": "markdown",
   "metadata": {},
   "source": [
    "## Finetune a pretrained Language Model"
   ]
  },
  {
   "cell_type": "markdown",
   "metadata": {},
   "source": [
    "First we get our data and tokenize it."
   ]
  },
  {
   "cell_type": "code",
   "execution_count": null,
   "metadata": {},
   "outputs": [
    {
     "data": {
      "text/html": [],
      "text/plain": [
       "<IPython.core.display.HTML object>"
      ]
     },
     "metadata": {},
     "output_type": "display_data"
    }
   ],
   "source": [
    "path = untar_data(URLs.IMDB_SAMPLE)\n",
    "df = pd.read_csv(path/'texts.csv')\n",
    "df_tok,count = tokenize_df(df, 'text')"
   ]
  },
  {
   "cell_type": "markdown",
   "metadata": {},
   "source": [
    "Then we put it in a `DataSource`. For a language model, we don't have targets, so there is only one transform to numericalize the texts. Note that `tokenize_df` returns the count of the words in the corpus to make it easy to create a vocabulary."
   ]
  },
  {
   "cell_type": "code",
   "execution_count": null,
   "metadata": {},
   "outputs": [],
   "source": [
    "splits = ColSplitter()(df_tok)\n",
    "vocab = make_vocab(count)\n",
    "dsrc = DataSource(df_tok, [[attrgetter(\"text\"), Numericalize(vocab)]], splits=splits, dl_type=LMDataLoader)"
   ]
  },
  {
   "cell_type": "markdown",
   "metadata": {},
   "source": [
    "Then we use that `DataSource` to create a `DataBunch`. Here the class of `TfmdDL` we need to use is `LMDataLoader` which will concatenate all the texts in a source (with a shuffle at each epoch for the training set), split it in `bs` chunks then read continuously through it."
   ]
  },
  {
   "cell_type": "code",
   "execution_count": null,
   "metadata": {},
   "outputs": [],
   "source": [
    "dbunch = dsrc.databunch(bs=64, seq_len=72, after_batch=Cuda)"
   ]
  },
  {
   "cell_type": "markdown",
   "metadata": {},
   "source": [
    "Or more simply with a factory method:"
   ]
  },
  {
   "cell_type": "code",
   "execution_count": null,
   "metadata": {},
   "outputs": [],
   "source": [
    "dbunch = TextDataBunch.from_df(df_tok, text_col=\"text\", text_vocab=vocab, is_lm=True)"
   ]
  },
  {
   "cell_type": "code",
   "execution_count": null,
   "metadata": {},
   "outputs": [
    {
     "data": {
      "text/html": [
       "<table border=\"1\" class=\"dataframe\">\n",
       "  <thead>\n",
       "    <tr style=\"text-align: right;\">\n",
       "      <th></th>\n",
       "      <th>text</th>\n",
       "      <th>text_</th>\n",
       "    </tr>\n",
       "  </thead>\n",
       "  <tbody>\n",
       "    <tr>\n",
       "      <th>0</th>\n",
       "      <td>xxbos i hope whoever xxunk these losers on their accents was fired . xxmaj the only high points are a few of the supporting characters , 3 of 5 of my xxunk were killed off by the end of the season ( and one of them was a cat , to put that into perspective ) . \\n\\n xxmaj the whole storyline is centered around sex , and nothing else . xxmaj</td>\n",
       "      <td>i hope whoever xxunk these losers on their accents was fired . xxmaj the only high points are a few of the supporting characters , 3 of 5 of my xxunk were killed off by the end of the season ( and one of them was a cat , to put that into perspective ) . \\n\\n xxmaj the whole storyline is centered around sex , and nothing else . xxmaj sex</td>\n",
       "    </tr>\n",
       "    <tr>\n",
       "      <th>1</th>\n",
       "      <td>through the xxunk mirror blew me away . xxmaj if you liked \" race xxup with xxup the xxup devil \" you will love this movie xxbos xxmaj this film is about a man 's life going wrong . xxmaj his business is failing , and he can not xxunk his wife despite multiple attempts . \\n\\n xxmaj the plot is complete chaos . xxmaj it simply does not make sense .</td>\n",
       "      <td>the xxunk mirror blew me away . xxmaj if you liked \" race xxup with xxup the xxup devil \" you will love this movie xxbos xxmaj this film is about a man 's life going wrong . xxmaj his business is failing , and he can not xxunk his wife despite multiple attempts . \\n\\n xxmaj the plot is complete chaos . xxmaj it simply does not make sense . xxmaj</td>\n",
       "    </tr>\n",
       "  </tbody>\n",
       "</table>"
      ],
      "text/plain": [
       "<IPython.core.display.HTML object>"
      ]
     },
     "metadata": {},
     "output_type": "display_data"
    }
   ],
   "source": [
    "dbunch.show_batch(max_n=2)"
   ]
  },
  {
   "cell_type": "markdown",
   "metadata": {},
   "source": [
    "Then we have a convenience method to directly grab a `Learner` from it, using the `AWD_LSTM` architecture."
   ]
  },
  {
   "cell_type": "code",
   "execution_count": null,
   "metadata": {},
   "outputs": [],
   "source": [
    "learn = language_model_learner(dbunch, AWD_LSTM, metrics=[accuracy, Perplexity()], path=path, opt_func = partial(Adam, wd=0.1)).to_fp16()"
   ]
  },
  {
   "cell_type": "code",
   "execution_count": null,
   "metadata": {},
   "outputs": [
    {
     "data": {
      "text/html": [
       "<table border=\"1\" class=\"dataframe\">\n",
       "  <thead>\n",
       "    <tr style=\"text-align: left;\">\n",
       "      <th>epoch</th>\n",
       "      <th>train_loss</th>\n",
       "      <th>valid_loss</th>\n",
       "      <th>accuracy</th>\n",
       "      <th>perplexity</th>\n",
       "      <th>time</th>\n",
       "    </tr>\n",
       "  </thead>\n",
       "  <tbody>\n",
       "    <tr>\n",
       "      <td>0</td>\n",
       "      <td>4.544207</td>\n",
       "      <td>4.076524</td>\n",
       "      <td>0.266717</td>\n",
       "      <td>58.940224</td>\n",
       "      <td>00:05</td>\n",
       "    </tr>\n",
       "  </tbody>\n",
       "</table>"
      ],
      "text/plain": [
       "<IPython.core.display.HTML object>"
      ]
     },
     "metadata": {},
     "output_type": "display_data"
    }
   ],
   "source": [
    "learn.freeze()\n",
    "learn.fit_one_cycle(1, 1e-2, moms=(0.8,0.7,0.8))"
   ]
  },
  {
   "cell_type": "code",
   "execution_count": null,
   "metadata": {},
   "outputs": [
    {
     "data": {
      "text/html": [
       "<table border=\"1\" class=\"dataframe\">\n",
       "  <thead>\n",
       "    <tr style=\"text-align: left;\">\n",
       "      <th>epoch</th>\n",
       "      <th>train_loss</th>\n",
       "      <th>valid_loss</th>\n",
       "      <th>accuracy</th>\n",
       "      <th>perplexity</th>\n",
       "      <th>time</th>\n",
       "    </tr>\n",
       "  </thead>\n",
       "  <tbody>\n",
       "    <tr>\n",
       "      <td>0</td>\n",
       "      <td>4.373950</td>\n",
       "      <td>4.376214</td>\n",
       "      <td>0.240014</td>\n",
       "      <td>79.536301</td>\n",
       "      <td>00:16</td>\n",
       "    </tr>\n",
       "    <tr>\n",
       "      <td>1</td>\n",
       "      <td>4.298529</td>\n",
       "      <td>4.310582</td>\n",
       "      <td>0.250852</td>\n",
       "      <td>74.483803</td>\n",
       "      <td>00:16</td>\n",
       "    </tr>\n",
       "    <tr>\n",
       "      <td>2</td>\n",
       "      <td>3.891712</td>\n",
       "      <td>4.226720</td>\n",
       "      <td>0.259793</td>\n",
       "      <td>68.492233</td>\n",
       "      <td>00:16</td>\n",
       "    </tr>\n",
       "    <tr>\n",
       "      <td>3</td>\n",
       "      <td>3.400854</td>\n",
       "      <td>4.267030</td>\n",
       "      <td>0.260507</td>\n",
       "      <td>71.309547</td>\n",
       "      <td>00:16</td>\n",
       "    </tr>\n",
       "  </tbody>\n",
       "</table>"
      ],
      "text/plain": [
       "<IPython.core.display.HTML object>"
      ]
     },
     "metadata": {},
     "output_type": "display_data"
    }
   ],
   "source": [
    "learn.unfreeze()\n",
    "learn.fit_one_cycle(4, 1e-2, moms=(0.8,0.7,0.8))"
   ]
  },
  {
   "cell_type": "markdown",
   "metadata": {},
   "source": [
    "Once we have fine-tuned the pretrained language model to this corpus, we save the encoder since we will use it for the classifier."
   ]
  },
  {
   "cell_type": "code",
   "execution_count": null,
   "metadata": {},
   "outputs": [
    {
     "data": {
      "text/html": [],
      "text/plain": [
       "<IPython.core.display.HTML object>"
      ]
     },
     "metadata": {},
     "output_type": "display_data"
    },
    {
     "data": {
      "text/html": [
       "<table border=\"1\" class=\"dataframe\">\n",
       "  <thead>\n",
       "    <tr style=\"text-align: right;\">\n",
       "      <th></th>\n",
       "      <th>input</th>\n",
       "      <th>target</th>\n",
       "      <th>pred</th>\n",
       "    </tr>\n",
       "  </thead>\n",
       "  <tbody>\n",
       "    <tr>\n",
       "      <th>0</th>\n",
       "      <td>xxbos xxmaj bill xxmaj paxton , of xxmaj aliens , xxmaj near xxmaj dark , and xxmaj xxunk fame , surprises me with his debut as director for xxmaj xxunk . xxmaj he hits on all xxunk , but there is one implausibility near the end that involves the xxup fbi agent ( powers xxmaj booth ) which xxunk a point from this otherwise chilling and thought provoking thriller . xxmaj other</td>\n",
       "      <td>xxmaj bill xxmaj paxton , of xxmaj aliens , xxmaj near xxmaj dark , and xxmaj xxunk fame , surprises me with his debut as director for xxmaj xxunk . xxmaj he hits on all xxunk , but there is one implausibility near the end that involves the xxup fbi agent ( powers xxmaj booth ) which xxunk a point from this otherwise chilling and thought provoking thriller . xxmaj other than</td>\n",
       "      <td>xxmaj this xxmaj paxton is xxmaj course xxunk , xxmaj xxunk xxmaj dark , and xxmaj xxunk xxmaj , are in with a xxunk . xxmaj and xxmaj xxunk xxmaj xxmaj the is the a the , and the is no thing in the end that is a two fbi agent ( powers xxmaj boothe ) who is his xxunk in the film xxunk and xxunk - thriller . xxmaj the than</td>\n",
       "    </tr>\n",
       "    <tr>\n",
       "      <th>1</th>\n",
       "      <td>'ll find out why they could become annoying ( http : / / xxunk / xxunk ) . xxmaj the main villain i guess is bad luck , fate , hand of xxmaj god ( no xxunk intended ) , or just plain xxmaj xxunk xxmaj xxunk ( billy xxmaj xxunk ) . xxmaj combine all of the above and what do you get ? ! xxmaj oh yes ! xxmaj we</td>\n",
       "      <td>find out why they could become annoying ( http : / / xxunk / xxunk ) . xxmaj the main villain i guess is bad luck , fate , hand of xxmaj god ( no xxunk intended ) , or just plain xxmaj xxunk xxmaj xxunk ( billy xxmaj xxunk ) . xxmaj combine all of the above and what do you get ? ! xxmaj oh yes ! xxmaj we get</td>\n",
       "      <td>be out that xxmaj were n't xxunk . xxunk : / / / / xxunk ) . xxmaj the plot character is would is xxmaj guy , and , and - xxmaj god , the one ) ) , or just a bad xxunk xxmaj xxunk ( xxunk xxmaj xxunk ) . xxmaj the all of the xxunk , the is you want ? xxmaj xxmaj the , , xxmaj the 're</td>\n",
       "    </tr>\n",
       "    <tr>\n",
       "      <th>2</th>\n",
       "      <td>bernie xxmaj xxunk . xxmaj alfred develops a sort of \" xxunk love \" for xxmaj bernie while our young xxmaj zeon pilot also falls for xxmaj christina . \\n\\n \" war in the xxmaj pocket \" proves that you do not need a sweeping epic tale about special individuals to make for a good war story . xxmaj there are no xxunk xxunk pilots or large scale fleet battles to be</td>\n",
       "      <td>xxmaj xxunk . xxmaj alfred develops a sort of \" xxunk love \" for xxmaj bernie while our young xxmaj zeon pilot also falls for xxmaj christina . \\n\\n \" war in the xxmaj pocket \" proves that you do not need a sweeping epic tale about special individuals to make for a good war story . xxmaj there are no xxunk xxunk pilots or large scale fleet battles to be seen</td>\n",
       "      <td>xxmaj xxunk ( xxmaj he is a xxunk of xxunk xxunk \" \" for xxmaj bernie . his two xxmaj xxunk pilot is falls in xxmaj bernie . xxmaj xxmaj the \" the xxmaj gold \" is that the can n't know to lot xxunk story about the xxunk . create a a good war story . xxmaj the is some real in in , xxunk xxunk xxunk battles , be seen</td>\n",
       "    </tr>\n",
       "    <tr>\n",
       "      <th>3</th>\n",
       "      <td>xxmaj it is 100 % visual xxunk : he gets his kicks by making the actors strip in the buff and look at their xxunk . xxmaj and if he does this in front of the audience , he might eve get a hard - on ! xxmaj did you know that , on the set of \" xxunk xxmaj xxunk \" , he used to xxunk poor xxmaj coca xxmaj xxunk</td>\n",
       "      <td>it is 100 % visual xxunk : he gets his kicks by making the actors strip in the buff and look at their xxunk . xxmaj and if he does this in front of the audience , he might eve get a hard - on ! xxmaj did you know that , on the set of \" xxunk xxmaj xxunk \" , he used to xxunk poor xxmaj coca xxmaj xxunk ,</td>\n",
       "      <td>xxunk 's a % xxunk xxunk , xxmaj is his xxunk in making a movie look in the middle and xxunk at the xxunk . xxmaj the the you 's n't , the of the camera , he is be be a xxunk - to - xxmaj he n't really that he he the other of the xxunk xxmaj xxunk \" , he 's to be his xxmaj xxunk xxmaj xxunk ,</td>\n",
       "    </tr>\n",
       "    <tr>\n",
       "      <th>4</th>\n",
       "      <td>and good nature . xxmaj not to mention amusing , xxunk dialogue . xxmaj after xxmaj adeline has taken steps to save xxmaj fanfan from hanging , she meets the king in his private quarters . \" give me your pretty little hand , \" he says . \" but my heart xxunk to xxmaj fanfan , \" says xxmaj adeline . \" who asks for your heart ? \" says the</td>\n",
       "      <td>good nature . xxmaj not to mention amusing , xxunk dialogue . xxmaj after xxmaj adeline has taken steps to save xxmaj fanfan from hanging , she meets the king in his private quarters . \" give me your pretty little hand , \" he says . \" but my heart xxunk to xxmaj fanfan , \" says xxmaj adeline . \" who asks for your heart ? \" says the king</td>\n",
       "      <td>the . . xxmaj the only mention the acting xxunk , , xxmaj the all xxunk 's died her to save her fanfan from xxunk , she is xxmaj king 's the mouth quarters . xxmaj we me a heart little head \" \" says says \" \" you i friend xxunk ! xxmaj fanfan ! \" says xxmaj adeline . xxmaj i knows for me heart ? \" xxmaj xxmaj king</td>\n",
       "    </tr>\n",
       "    <tr>\n",
       "      <th>5</th>\n",
       "      <td>. \\n\\n xxmaj no , this film is n't terrible . xxmaj other than the laughable screenplay , it is n't poor . xxmaj the actors are all experienced and perform well here . xxmaj xxunk xxmaj xxunk , who plays xxmaj sajani , was part of wonderful xxmaj indian drama xxmaj water . xxmaj even director xxmaj sivan has an impressive xxunk . xxmaj he recently xxunk xxmaj the xxmaj terrorist</td>\n",
       "      <td>\\n\\n xxmaj no , this film is n't terrible . xxmaj other than the laughable screenplay , it is n't poor . xxmaj the actors are all experienced and perform well here . xxmaj xxunk xxmaj xxunk , who plays xxmaj sajani , was part of wonderful xxmaj indian drama xxmaj water . xxmaj even director xxmaj sivan has an impressive xxunk . xxmaj he recently xxunk xxmaj the xxmaj terrorist ,</td>\n",
       "      <td>xxmaj xxmaj the , no movie is not a . xxmaj it than that fact acting , it 's a even . xxmaj the acting are not very with very well . . xxmaj the xxmaj xxunk is xxmaj plays xxmaj xxunk , is a of the xxmaj xxunk history . xxunk . xxmaj the though xxmaj xxunk 's been amazing cast . xxmaj he is made the the xxmaj xxunk ,</td>\n",
       "    </tr>\n",
       "    <tr>\n",
       "      <th>6</th>\n",
       "      <td>xxunk . xxmaj this is the movie in a xxunk . xxmaj then there is the bad acting and insipid dialogue . i actually have a lot of patience when it comes to b movies . xxmaj this one is xxunk . xxmaj by the way , a more xxunk title would be xxmaj revolt of the xxmaj hypnotized . xxbos xxmaj if somebody wants to make a really , xxup really</td>\n",
       "      <td>. xxmaj this is the movie in a xxunk . xxmaj then there is the bad acting and insipid dialogue . i actually have a lot of patience when it comes to b movies . xxmaj this one is xxunk . xxmaj by the way , a more xxunk title would be xxmaj revolt of the xxmaj hypnotized . xxbos xxmaj if somebody wants to make a really , xxup really bad</td>\n",
       "      <td>xxmaj xxmaj the is a only 's which xxunk , xxmaj it , is a xxunk acting , the dialogue . xxmaj think liked to lot of time to i comes to xxmaj movies . xxmaj the is is a . xxmaj it the way , it movie realistic , is be a xxunk of the xxmaj hypnotized . xxmaj xxmaj this you has to see a movie good good tv good</td>\n",
       "    </tr>\n",
       "    <tr>\n",
       "      <th>7</th>\n",
       "      <td>, one might hope that at least the critical \" facts \" that the story turns on might be based on actual events . xxmaj reagan was shot and the other characters were real people . xxmaj the movie got that right . xxmaj from there on , xxunk on facts rapidly xxunk . i had never heard of this movie before seeing it . xxmaj having been a xxup tv reporter</td>\n",
       "      <td>one might hope that at least the critical \" facts \" that the story turns on might be based on actual events . xxmaj reagan was shot and the other characters were real people . xxmaj the movie got that right . xxmaj from there on , xxunk on facts rapidly xxunk . i had never heard of this movie before seeing it . xxmaj having been a xxup tv reporter at</td>\n",
       "      <td>and of not that the least the xxunk xxunk xxunk \" are this film is into are be a on the events . xxmaj the 's n't and was xxunk characters were xxunk . . xxmaj the film was a much . xxmaj the the , , the the the , xxunk . xxmaj was to heard of the movie before i it . xxmaj the read xxunk fan tv fan ,</td>\n",
       "    </tr>\n",
       "    <tr>\n",
       "      <th>8</th>\n",
       "      <td>looking and young , and so he gives xxmaj jackman nothing to say or do . xxmaj like xxmaj johansson , he is used merely for his good looks . xxmaj this is a shame , because , as xxmaj jackman has shown in any number of productions , from \" oklahoma \" to \" x xxmaj men , \" he xxup can act . \\n\\n xxmaj here 's the big plot</td>\n",
       "      <td>and young , and so he gives xxmaj jackman nothing to say or do . xxmaj like xxmaj johansson , he is used merely for his good looks . xxmaj this is a shame , because , as xxmaj jackman has shown in any number of productions , from \" oklahoma \" to \" x xxmaj men , \" he xxup can act . \\n\\n xxmaj here 's the big plot twist</td>\n",
       "      <td>for looking people xxunk the on 's us xxunk a to do about do . xxmaj the xxmaj xxunk , he 's a to to his xxunk acting . xxmaj he is a very , because he as a jackman is done , his other of movies , he the xxunk \" to \" xxunk xxmaj men \" \" he 's is not as xxmaj xxmaj the , a only - twist</td>\n",
       "    </tr>\n",
       "    <tr>\n",
       "      <th>9</th>\n",
       "      <td>probably the worst movie i have ever seen . xxmaj here are the things that immediately jump out at me : 1 . xxmaj the woods were more like hills in xxmaj los xxmaj angeles with a couple trees and xxunk . xxmaj not scary whatsoever . xxmaj news flash , if you are filming in the xxmaj southern xxmaj california area , big bear is only an hour away . xxmaj</td>\n",
       "      <td>the worst movie i have ever seen . xxmaj here are the things that immediately jump out at me : 1 . xxmaj the woods were more like hills in xxmaj los xxmaj angeles with a couple trees and xxunk . xxmaj not scary whatsoever . xxmaj news flash , if you are filming in the xxmaj southern xxmaj california area , big bear is only an hour away . xxmaj they</td>\n",
       "      <td>not best movie i have ever seen . xxmaj the 's the things that are happen out of the . xxmaj . xxmaj the acting are xxunk like a in xxmaj xxunk xxmaj angeles . a couple of , xxunk . xxmaj the only . . xxmaj the xxunk , but you 're looking in the woods xxunk xxmaj california area , you xxunk is just a hour away . xxmaj the</td>\n",
       "    </tr>\n",
       "  </tbody>\n",
       "</table>"
      ],
      "text/plain": [
       "<IPython.core.display.HTML object>"
      ]
     },
     "metadata": {},
     "output_type": "display_data"
    }
   ],
   "source": [
    "learn.show_results()"
   ]
  },
  {
   "cell_type": "code",
   "execution_count": null,
   "metadata": {},
   "outputs": [],
   "source": [
    "learn.save_encoder('enc1')"
   ]
  },
  {
   "cell_type": "markdown",
   "metadata": {},
   "source": [
    "## Use it to train a classifier"
   ]
  },
  {
   "cell_type": "markdown",
   "metadata": {},
   "source": [
    "For classification, we need to use two set of transforms: one to numericalize the texts and the other to encode the labels as categories."
   ]
  },
  {
   "cell_type": "code",
   "execution_count": null,
   "metadata": {},
   "outputs": [],
   "source": [
    "splits = ColSplitter()(df_tok)\n",
    "dsrc = DataSource(df_tok, splits=splits, tfms=[\n",
    "    [attrgetter(\"text\"), Numericalize(vocab)],\n",
    "    [attrgetter(\"label\"), Categorize()]], dl_type=SortedDL)"
   ]
  },
  {
   "cell_type": "markdown",
   "metadata": {},
   "source": [
    "We opnce again use a subclass of `TfmdDL` for the dataloaders, since we want to sort the texts (sortish for the training set) by order of lengths. We also use `pad_collate` to create batches form texts of different lengths."
   ]
  },
  {
   "cell_type": "code",
   "execution_count": null,
   "metadata": {},
   "outputs": [],
   "source": [
    "dbunch = dsrc.databunch(before_batch=pad_input, after_batch=Cuda)"
   ]
  },
  {
   "cell_type": "code",
   "execution_count": null,
   "metadata": {},
   "outputs": [
    {
     "data": {
      "text/html": [
       "<table border=\"1\" class=\"dataframe\">\n",
       "  <thead>\n",
       "    <tr style=\"text-align: right;\">\n",
       "      <th></th>\n",
       "      <th>text</th>\n",
       "      <th>category</th>\n",
       "    </tr>\n",
       "  </thead>\n",
       "  <tbody>\n",
       "    <tr>\n",
       "      <th>0</th>\n",
       "      <td>xxbos xxmaj raising xxmaj victor xxmaj vargas : a xxmaj review \\n\\n xxmaj you know , xxmaj raising xxmaj victor xxmaj vargas is like sticking your hands into a big , xxunk bowl of xxunk . xxmaj it 's warm and gooey , but you 're not sure if it feels right . xxmaj try as i might , no</td>\n",
       "      <td>negative</td>\n",
       "    </tr>\n",
       "    <tr>\n",
       "      <th>1</th>\n",
       "      <td>xxbos xxup the xxup shop xxup around xxup the xxup corner is one of the xxunk and most feel - good romantic comedies ever made . xxmaj there 's just no getting around that , and it 's hard to actually put one 's feeling for this film into words . xxmaj it 's not one of those films that</td>\n",
       "      <td>positive</td>\n",
       "    </tr>\n",
       "  </tbody>\n",
       "</table>"
      ],
      "text/plain": [
       "<IPython.core.display.HTML object>"
      ]
     },
     "metadata": {},
     "output_type": "display_data"
    }
   ],
   "source": [
    "dbunch.show_batch(max_n=2, trunc_at=60)"
   ]
  },
  {
   "cell_type": "markdown",
   "metadata": {},
   "source": [
    "Or with a factory method of `TextDataBunch`:"
   ]
  },
  {
   "cell_type": "code",
   "execution_count": null,
   "metadata": {},
   "outputs": [],
   "source": [
    "dbunch = TextDataBunch.from_df(df_tok, text_col=\"text\", text_vocab=vocab, label_col='label')"
   ]
  },
  {
   "cell_type": "markdown",
   "metadata": {},
   "source": [
    "Then we once again have a convenience function to create a classifier from this `DataBunch` with the `AWD_LSTM` architecture."
   ]
  },
  {
   "cell_type": "code",
   "execution_count": null,
   "metadata": {},
   "outputs": [],
   "source": [
    "learn = text_classifier_learner(dbunch, AWD_LSTM, metrics=[accuracy], path=path, opt_func=Adam, drop_mult=0.5)"
   ]
  },
  {
   "cell_type": "code",
   "execution_count": null,
   "metadata": {},
   "outputs": [],
   "source": [
    "learn = learn.load_encoder('enc1')"
   ]
  },
  {
   "cell_type": "markdown",
   "metadata": {},
   "source": [
    "Then we can train with gradual unfreezing and differential learning rates."
   ]
  },
  {
   "cell_type": "code",
   "execution_count": null,
   "metadata": {},
   "outputs": [
    {
     "data": {
      "text/html": [
       "<table border=\"1\" class=\"dataframe\">\n",
       "  <thead>\n",
       "    <tr style=\"text-align: left;\">\n",
       "      <th>epoch</th>\n",
       "      <th>train_loss</th>\n",
       "      <th>valid_loss</th>\n",
       "      <th>accuracy</th>\n",
       "      <th>time</th>\n",
       "    </tr>\n",
       "  </thead>\n",
       "  <tbody>\n",
       "    <tr>\n",
       "      <td>0</td>\n",
       "      <td>0.720599</td>\n",
       "      <td>0.496283</td>\n",
       "      <td>0.765000</td>\n",
       "      <td>00:10</td>\n",
       "    </tr>\n",
       "    <tr>\n",
       "      <td>1</td>\n",
       "      <td>0.580163</td>\n",
       "      <td>0.465498</td>\n",
       "      <td>0.790000</td>\n",
       "      <td>00:10</td>\n",
       "    </tr>\n",
       "    <tr>\n",
       "      <td>2</td>\n",
       "      <td>0.502125</td>\n",
       "      <td>0.460327</td>\n",
       "      <td>0.760000</td>\n",
       "      <td>00:09</td>\n",
       "    </tr>\n",
       "    <tr>\n",
       "      <td>3</td>\n",
       "      <td>0.461802</td>\n",
       "      <td>0.448796</td>\n",
       "      <td>0.765000</td>\n",
       "      <td>00:11</td>\n",
       "    </tr>\n",
       "  </tbody>\n",
       "</table>"
      ],
      "text/plain": [
       "<IPython.core.display.HTML object>"
      ]
     },
     "metadata": {},
     "output_type": "display_data"
    }
   ],
   "source": [
    "learn.fit_one_cycle(4, moms=(0.8,0.7,0.8))"
   ]
  },
  {
   "cell_type": "code",
   "execution_count": null,
   "metadata": {},
   "outputs": [
    {
     "data": {
      "text/html": [
       "<table border=\"1\" class=\"dataframe\">\n",
       "  <thead>\n",
       "    <tr style=\"text-align: left;\">\n",
       "      <th>epoch</th>\n",
       "      <th>train_loss</th>\n",
       "      <th>valid_loss</th>\n",
       "      <th>accuracy</th>\n",
       "      <th>time</th>\n",
       "    </tr>\n",
       "  </thead>\n",
       "  <tbody>\n",
       "    <tr>\n",
       "      <td>0</td>\n",
       "      <td>0.411823</td>\n",
       "      <td>0.399018</td>\n",
       "      <td>0.810000</td>\n",
       "      <td>00:15</td>\n",
       "    </tr>\n",
       "    <tr>\n",
       "      <td>1</td>\n",
       "      <td>0.397232</td>\n",
       "      <td>0.416813</td>\n",
       "      <td>0.815000</td>\n",
       "      <td>00:16</td>\n",
       "    </tr>\n",
       "    <tr>\n",
       "      <td>2</td>\n",
       "      <td>0.373783</td>\n",
       "      <td>0.486226</td>\n",
       "      <td>0.785000</td>\n",
       "      <td>00:17</td>\n",
       "    </tr>\n",
       "    <tr>\n",
       "      <td>3</td>\n",
       "      <td>0.315111</td>\n",
       "      <td>0.422542</td>\n",
       "      <td>0.825000</td>\n",
       "      <td>00:19</td>\n",
       "    </tr>\n",
       "    <tr>\n",
       "      <td>4</td>\n",
       "      <td>0.282453</td>\n",
       "      <td>0.421409</td>\n",
       "      <td>0.830000</td>\n",
       "      <td>00:19</td>\n",
       "    </tr>\n",
       "    <tr>\n",
       "      <td>5</td>\n",
       "      <td>0.251479</td>\n",
       "      <td>0.422410</td>\n",
       "      <td>0.820000</td>\n",
       "      <td>00:16</td>\n",
       "    </tr>\n",
       "    <tr>\n",
       "      <td>6</td>\n",
       "      <td>0.245852</td>\n",
       "      <td>0.444412</td>\n",
       "      <td>0.810000</td>\n",
       "      <td>00:16</td>\n",
       "    </tr>\n",
       "    <tr>\n",
       "      <td>7</td>\n",
       "      <td>0.221122</td>\n",
       "      <td>0.416276</td>\n",
       "      <td>0.820000</td>\n",
       "      <td>00:18</td>\n",
       "    </tr>\n",
       "  </tbody>\n",
       "</table>"
      ],
      "text/plain": [
       "<IPython.core.display.HTML object>"
      ]
     },
     "metadata": {},
     "output_type": "display_data"
    }
   ],
   "source": [
    "learn.unfreeze()\n",
    "learn.opt = learn.create_opt()\n",
    "learn.fit_one_cycle(8, slice(1e-5,1e-3), moms=(0.8,0.7,0.8))"
   ]
  },
  {
   "cell_type": "code",
   "execution_count": null,
   "metadata": {},
   "outputs": [
    {
     "data": {
      "text/html": [],
      "text/plain": [
       "<IPython.core.display.HTML object>"
      ]
     },
     "metadata": {},
     "output_type": "display_data"
    },
    {
     "data": {
      "text/html": [
       "<table border=\"1\" class=\"dataframe\">\n",
       "  <thead>\n",
       "    <tr style=\"text-align: right;\">\n",
       "      <th></th>\n",
       "      <th>text</th>\n",
       "      <th>category</th>\n",
       "      <th>category_</th>\n",
       "    </tr>\n",
       "  </thead>\n",
       "  <tbody>\n",
       "    <tr>\n",
       "      <th>0</th>\n",
       "      <td>xxbos xxup the xxup shop xxup around xxup the xxup corner is one of the xxunk and most feel - good romantic comedies ever made . xxmaj there 's just no getting around that , and it 's hard to actually put one 's feeling for this film into words . xxmaj it 's not one of those films that</td>\n",
       "      <td>positive</td>\n",
       "      <td>positive</td>\n",
       "    </tr>\n",
       "    <tr>\n",
       "      <th>1</th>\n",
       "      <td>xxbos xxmaj now that xxmaj che(2008 ) has finished its relatively short xxmaj australian cinema run ( extremely limited xxunk screen in xxmaj xxunk , after xxunk ) , i can xxunk join both xxunk of \" at xxmaj the xxmaj movies \" in taking xxmaj steven xxmaj soderbergh to task . \\n\\n xxmaj it 's usually satisfying to watch</td>\n",
       "      <td>negative</td>\n",
       "      <td>negative</td>\n",
       "    </tr>\n",
       "  </tbody>\n",
       "</table>"
      ],
      "text/plain": [
       "<IPython.core.display.HTML object>"
      ]
     },
     "metadata": {},
     "output_type": "display_data"
    }
   ],
   "source": [
    "learn.show_results(max_n=2, trunc_at=60)"
   ]
  },
  {
   "cell_type": "code",
   "execution_count": null,
   "metadata": {},
   "outputs": [],
   "source": [
    "from fastai2.interpret import *"
   ]
  },
  {
   "cell_type": "code",
   "execution_count": null,
   "metadata": {},
   "outputs": [
    {
     "data": {
      "text/html": [],
      "text/plain": [
       "<IPython.core.display.HTML object>"
      ]
     },
     "metadata": {},
     "output_type": "display_data"
    }
   ],
   "source": [
    "interp = Interpretation.from_learner(learn)"
   ]
  },
  {
   "cell_type": "code",
   "execution_count": null,
   "metadata": {},
   "outputs": [
    {
     "data": {
      "text/html": [
       "<table border=\"1\" class=\"dataframe\">\n",
       "  <thead>\n",
       "    <tr style=\"text-align: right;\">\n",
       "      <th></th>\n",
       "      <th>input</th>\n",
       "      <th>target</th>\n",
       "      <th>predicted</th>\n",
       "      <th>probability</th>\n",
       "      <th>loss</th>\n",
       "    </tr>\n",
       "  </thead>\n",
       "  <tbody>\n",
       "    <tr>\n",
       "      <th>0</th>\n",
       "      <td>xxbos xxmaj over xxmaj her xxmaj dead xxmaj body was a nice little xxunk was decent and entertaining , while still being pretty xxunk were a few cliché 's , but i found most stuff xxunk first i did n't think it was going to be good at all , when it started xxunk you can get past the first 20 minutes though , the movie starts getting more xxunk film was n't burst out in laughter hilarious , and was n't xxup oh xxup my xxup xxunk xxunk was just a movie that you can sit down and enjoy for how enjoyable it xxunk do n't see how this movie was xxunk rating is just a bit too xxunk could 've dealt with a xxunk a xxunk , giving this movie a 1 is xxunk was pretty good , and there was nothing horrible enough about it to give</td>\n",
       "      <td>positive</td>\n",
       "      <td>negative</td>\n",
       "      <td>0.9911274313926697</td>\n",
       "      <td>4.724791526794434</td>\n",
       "    </tr>\n",
       "    <tr>\n",
       "      <th>1</th>\n",
       "      <td>xxbos xxmaj not sure if it was right or wrong , but i read thru the other comments before watching the xxunk have to say i disagree with most of the negative comments or problems people have had with it . \\n\\n xxmaj as a first time \" lone xxmaj wolf \" director / producer , i like to see things that i can xxunk to , not necessarily from the pro 's , but by people just getting their feet wet like me . \\n\\n xxmaj if indeed this is also from a first - xxunk , as i read , i applaud the xxunk job then in that respect ! xxmaj there were some comments about the xxunk thought it was quite nice for the xxunk say it kind of xxunk along for a while , but i found that created tension xxunk being xxunk of it ,</td>\n",
       "      <td>positive</td>\n",
       "      <td>negative</td>\n",
       "      <td>0.989062488079071</td>\n",
       "      <td>4.515562057495117</td>\n",
       "    </tr>\n",
       "    <tr>\n",
       "      <th>2</th>\n",
       "      <td>xxbos xxmaj of life in ( some ) colleges . xxmaj of course there were artistic xxunk taken , but some of what you saw in this film go on in some colleges . \\n\\n i went to colleges in xxmaj southern xxmaj california where the xxunk pretty much hang around with their own . xxmaj it 's funny because these are schools that want racial xxunk , equality etc . and i can honestly say , that it 's there . xxmaj but the thing is when class lets out , or when they 're just hanging out waiting for class , they ( students ) seem to just hang around with people of their own race or ethnicity . xxmaj is that bad ? xxmaj not really . xxmaj everyone needs a feeling of belonging . xxmaj but like the school paper of one of the schools i</td>\n",
       "      <td>positive</td>\n",
       "      <td>negative</td>\n",
       "      <td>0.9781860709190369</td>\n",
       "      <td>3.8252058029174805</td>\n",
       "    </tr>\n",
       "    <tr>\n",
       "      <th>3</th>\n",
       "      <td>xxbos i ca nt help it but i seem to like films that are meant to be scary and are just plain bad . i have personally listed it in my own top 10 worst movies right under creatures of the xxunk xxmaj watch this film and have a laugh just do n't expect to see any academy awards for acting . xxmaj more chance of understanding the film its self . xxmaj in all honesty though i have seen much worse than this . xxmaj plus some xxunk xxunk round the desert xxunk the same people out that just died is that unbelievable that its got to be original . i think its one of those love or hate movies . you can make up your own mind yes its awful but it pulls it off somehow that s why i love it</td>\n",
       "      <td>negative</td>\n",
       "      <td>positive</td>\n",
       "      <td>0.9513773322105408</td>\n",
       "      <td>3.0236663818359375</td>\n",
       "    </tr>\n",
       "    <tr>\n",
       "      <th>4</th>\n",
       "      <td>xxbos xxmaj like xxmaj tarzan the xxmaj ape xxmaj man ( 1932 ) , only more so . xxmaj there 's more of everything , more animals , more varied xxmaj african tribes , and scenes in which the thought must be , if this was good with three or four lions , forty would be better . xxmaj tarzan xxunk with xxunk the crocodile machine xxunk in the water like a rolling pin , around and around , jaws xxunk . xxmaj tarzan can kill it with his xxunk knife if the xxunk xxunk would hold still . xxmaj tarzan kills lions and xxunk and a xxunk xxunk number of animals . xxmaj his friends are real xxunk , people wearing larger ape costumes , and xxunk . xxmaj in fact , they use xxmaj indian xxunk more friendly and xxunk than xxmaj african xxunk costume ears attached to</td>\n",
       "      <td>positive</td>\n",
       "      <td>negative</td>\n",
       "      <td>0.9405072331428528</td>\n",
       "      <td>2.821899890899658</td>\n",
       "    </tr>\n",
       "    <tr>\n",
       "      <th>5</th>\n",
       "      <td>xxbos xxmaj this is yet another bad movie that you should probably avoid watching . xxmaj the plot could be a lot \" xxunk \" than it actually is and would be better made as a blockbuster type movie . \\n\\n xxmaj the acting leaves something to be desired , though you can not quite place your finger on what it is . \\n\\n xxmaj this is one of those that you watch on late night xxup tv , perhaps on xxup usa , simply because you can not get to sleep . xxmaj watch it if you want but do not expect too much from it .</td>\n",
       "      <td>negative</td>\n",
       "      <td>positive</td>\n",
       "      <td>0.9324377179145813</td>\n",
       "      <td>2.6947054862976074</td>\n",
       "    </tr>\n",
       "  </tbody>\n",
       "</table>"
      ],
      "text/plain": [
       "<IPython.core.display.HTML object>"
      ]
     },
     "metadata": {},
     "output_type": "display_data"
    }
   ],
   "source": [
    "interp.plot_top_losses(6)"
   ]
  },
  {
   "cell_type": "code",
   "execution_count": null,
   "metadata": {},
   "outputs": [],
   "source": []
  }
 ],
 "metadata": {
  "kernelspec": {
   "display_name": "Python 3",
   "language": "python",
   "name": "python3"
  }
 },
 "nbformat": 4,
 "nbformat_minor": 2
}
